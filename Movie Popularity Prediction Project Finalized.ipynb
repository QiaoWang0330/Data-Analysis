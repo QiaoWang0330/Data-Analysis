{
 "cells": [
  {
   "cell_type": "markdown",
   "metadata": {},
   "source": [
    "# Overview of Movie Popularity Prediction\n",
    "\n",
    "In this project, I aim to predict whether a movie is going to perform well on Amazon Prime Video with python, specifically I want to predict the cumulated view time per day of each film based on labeled data. \n",
    "\n",
    "* Lots of Missing values\n",
    "  Among the 10 numerical features (not include video_id and release_year), 4 features have over 25% of missing data\n",
    "* Weighted categorical position, weighted horizontal position and imbd_votes are highly predictive features of popular movies."
   ]
  },
  {
   "cell_type": "markdown",
   "metadata": {
    "colab_type": "text",
    "id": "OteRUJc685g0"
   },
   "source": [
    "# Pre Load packages \n"
   ]
  },
  {
   "cell_type": "code",
   "execution_count": 39,
   "metadata": {
    "colab": {},
    "colab_type": "code",
    "id": "uD2Ih_u385g3"
   },
   "outputs": [],
   "source": [
    "# load packages\n",
    "%matplotlib inline\n",
    "import numpy as np\n",
    "import scipy\n",
    "import pandas as pd\n",
    "import matplotlib.pyplot as plt\n",
    "import statsmodels.formula.api as sm\n",
    "import seaborn as sns\n",
    "import sklearn as sl\n",
    "from sklearn import preprocessing\n",
    "pd.set_option('display.float_format', lambda x: '%.3f' % x)\n",
    "import warnings\n",
    "warnings.filterwarnings('ignore')"
   ]
  },
  {
   "cell_type": "markdown",
   "metadata": {
    "colab_type": "text",
    "id": "Ko3Z6PZk85g7"
   },
   "source": [
    "# Pre Load data \n",
    "\n",
    "'Video_id' is defined as the index of each sample. 'cvt_per_day' is the metric, the rest of 14 columns are all characteristic features (numeric & categorical) of each video."
   ]
  },
  {
   "cell_type": "code",
   "execution_count": 40,
   "metadata": {
    "colab": {},
    "colab_type": "code",
    "id": "AicVVtkv85g8",
    "outputId": "0ac999a2-d35a-4bc8-88c2-fc216e519301"
   },
   "outputs": [
    {
     "data": {
      "text/html": [
       "<div>\n",
       "<style scoped>\n",
       "    .dataframe tbody tr th:only-of-type {\n",
       "        vertical-align: middle;\n",
       "    }\n",
       "\n",
       "    .dataframe tbody tr th {\n",
       "        vertical-align: top;\n",
       "    }\n",
       "\n",
       "    .dataframe thead th {\n",
       "        text-align: right;\n",
       "    }\n",
       "</style>\n",
       "<table border=\"1\" class=\"dataframe\">\n",
       "  <thead>\n",
       "    <tr style=\"text-align: right;\">\n",
       "      <th></th>\n",
       "      <th>video_id</th>\n",
       "      <th>cvt_per_day</th>\n",
       "      <th>weighted_categorical_position</th>\n",
       "      <th>weighted_horizontal_poition</th>\n",
       "      <th>import_id</th>\n",
       "      <th>release_year</th>\n",
       "      <th>genres</th>\n",
       "      <th>imdb_votes</th>\n",
       "      <th>budget</th>\n",
       "      <th>boxoffice</th>\n",
       "      <th>imdb_rating</th>\n",
       "      <th>duration_in_mins</th>\n",
       "      <th>metacritic_score</th>\n",
       "      <th>awards</th>\n",
       "      <th>mpaa</th>\n",
       "      <th>star_category</th>\n",
       "    </tr>\n",
       "  </thead>\n",
       "  <tbody>\n",
       "    <tr>\n",
       "      <th>0</th>\n",
       "      <td>385504</td>\n",
       "      <td>307127.606</td>\n",
       "      <td>1</td>\n",
       "      <td>3</td>\n",
       "      <td>lionsgate</td>\n",
       "      <td>2013</td>\n",
       "      <td>Action,Thriller,Drama</td>\n",
       "      <td>69614</td>\n",
       "      <td>15000000</td>\n",
       "      <td>42930462</td>\n",
       "      <td>6.500</td>\n",
       "      <td>112.301</td>\n",
       "      <td>51</td>\n",
       "      <td>other award</td>\n",
       "      <td>PG-13</td>\n",
       "      <td>1.710</td>\n",
       "    </tr>\n",
       "    <tr>\n",
       "      <th>1</th>\n",
       "      <td>300175</td>\n",
       "      <td>270338.426</td>\n",
       "      <td>1</td>\n",
       "      <td>3</td>\n",
       "      <td>lionsgate</td>\n",
       "      <td>2013</td>\n",
       "      <td>Comedy,Crime,Thriller</td>\n",
       "      <td>46705</td>\n",
       "      <td>15000000</td>\n",
       "      <td>3301046</td>\n",
       "      <td>6.500</td>\n",
       "      <td>94.983</td>\n",
       "      <td>41</td>\n",
       "      <td>no award</td>\n",
       "      <td>R</td>\n",
       "      <td>3.250</td>\n",
       "    </tr>\n",
       "    <tr>\n",
       "      <th>2</th>\n",
       "      <td>361899</td>\n",
       "      <td>256165.867</td>\n",
       "      <td>1</td>\n",
       "      <td>3</td>\n",
       "      <td>other</td>\n",
       "      <td>2012</td>\n",
       "      <td>Crime,Drama</td>\n",
       "      <td>197596</td>\n",
       "      <td>26000000</td>\n",
       "      <td>37397291</td>\n",
       "      <td>7.300</td>\n",
       "      <td>115.764</td>\n",
       "      <td>58</td>\n",
       "      <td>other award</td>\n",
       "      <td>R</td>\n",
       "      <td>2.647</td>\n",
       "    </tr>\n",
       "    <tr>\n",
       "      <th>3</th>\n",
       "      <td>308314</td>\n",
       "      <td>196622.721</td>\n",
       "      <td>3</td>\n",
       "      <td>4</td>\n",
       "      <td>lionsgate</td>\n",
       "      <td>2008</td>\n",
       "      <td>Thriller,Drama,War,Documentary,Mystery,Action</td>\n",
       "      <td>356339</td>\n",
       "      <td>15000000</td>\n",
       "      <td>15700000</td>\n",
       "      <td>7.600</td>\n",
       "      <td>130.704</td>\n",
       "      <td>94</td>\n",
       "      <td>Oscar</td>\n",
       "      <td>R</td>\n",
       "      <td>1.667</td>\n",
       "    </tr>\n",
       "    <tr>\n",
       "      <th>4</th>\n",
       "      <td>307201</td>\n",
       "      <td>159841.652</td>\n",
       "      <td>1</td>\n",
       "      <td>3</td>\n",
       "      <td>lionsgate</td>\n",
       "      <td>2013</td>\n",
       "      <td>Crime,Thriller,Mystery,Documentary</td>\n",
       "      <td>46720</td>\n",
       "      <td>27220000</td>\n",
       "      <td>8551228</td>\n",
       "      <td>6.400</td>\n",
       "      <td>105.546</td>\n",
       "      <td>37</td>\n",
       "      <td>other award</td>\n",
       "      <td>R</td>\n",
       "      <td>3.067</td>\n",
       "    </tr>\n",
       "  </tbody>\n",
       "</table>\n",
       "</div>"
      ],
      "text/plain": [
       "   video_id  cvt_per_day  weighted_categorical_position  \\\n",
       "0    385504   307127.606                              1   \n",
       "1    300175   270338.426                              1   \n",
       "2    361899   256165.867                              1   \n",
       "3    308314   196622.721                              3   \n",
       "4    307201   159841.652                              1   \n",
       "\n",
       "   weighted_horizontal_poition  import_id  release_year  \\\n",
       "0                            3  lionsgate          2013   \n",
       "1                            3  lionsgate          2013   \n",
       "2                            3      other          2012   \n",
       "3                            4  lionsgate          2008   \n",
       "4                            3  lionsgate          2013   \n",
       "\n",
       "                                          genres  imdb_votes    budget  \\\n",
       "0                          Action,Thriller,Drama       69614  15000000   \n",
       "1                          Comedy,Crime,Thriller       46705  15000000   \n",
       "2                                    Crime,Drama      197596  26000000   \n",
       "3  Thriller,Drama,War,Documentary,Mystery,Action      356339  15000000   \n",
       "4             Crime,Thriller,Mystery,Documentary       46720  27220000   \n",
       "\n",
       "   boxoffice  imdb_rating  duration_in_mins  metacritic_score       awards  \\\n",
       "0   42930462        6.500           112.301                51  other award   \n",
       "1    3301046        6.500            94.983                41     no award   \n",
       "2   37397291        7.300           115.764                58  other award   \n",
       "3   15700000        7.600           130.704                94        Oscar   \n",
       "4    8551228        6.400           105.546                37  other award   \n",
       "\n",
       "    mpaa  star_category  \n",
       "0  PG-13          1.710  \n",
       "1      R          3.250  \n",
       "2      R          2.647  \n",
       "3      R          1.667  \n",
       "4      R          3.067  "
      ]
     },
     "execution_count": 40,
     "metadata": {},
     "output_type": "execute_result"
    }
   ],
   "source": [
    "location = r'C:\\Users\\Adela\\Dropbox\\OA\\TVdata.txt'\n",
    "TV = pd.read_table(location, sep = ',', header=0, lineterminator = '\\n')\n",
    "TV.head()"
   ]
  },
  {
   "cell_type": "code",
   "execution_count": 41,
   "metadata": {
    "colab": {},
    "colab_type": "code",
    "id": "f1z7PhFQ85hB",
    "outputId": "0034a8f7-f5d3-481a-f6f8-e848c190a1c6"
   },
   "outputs": [
    {
     "name": "stdout",
     "output_type": "stream",
     "text": [
      "Number of rows: 4226\n",
      "Number of columns: 16\n"
     ]
    }
   ],
   "source": [
    "print 'Number of rows: ' + str(TV.shape[0])\n",
    "print 'Number of columns: ' + str(TV.shape[1])"
   ]
  },
  {
   "cell_type": "markdown",
   "metadata": {
    "colab_type": "text",
    "id": "FMIZ30cU85hF"
   },
   "source": [
    "\n",
    "# 1 : Data Exploration\n",
    "\n",
    "## 1.1 Exclude erroneous data \n",
    "Each video should only appear once in the list, duplicated video will be removed."
   ]
  },
  {
   "cell_type": "code",
   "execution_count": 42,
   "metadata": {
    "colab": {},
    "colab_type": "code",
    "id": "ilouboQA85hG",
    "outputId": "69ce8baf-a9a9-4826-9e9a-20867f657ca5"
   },
   "outputs": [
    {
     "name": "stdout",
     "output_type": "stream",
     "text": [
      "There is no duplicated entry (video_id based).\n"
     ]
    }
   ],
   "source": [
    "# check duplicated entry\n",
    "if len(TV.set_index('video_id').index.get_duplicates()) == 0:\n",
    "    print 'There is no duplicated entry (video_id based).'"
   ]
  },
  {
   "cell_type": "markdown",
   "metadata": {
    "colab_type": "text",
    "id": "ONpNB2b085hJ"
   },
   "source": [
    "## 1.2 Understand the numerical features\n",
    "### 1.2.1 Overview \n",
    "Note: video_id, release_year are not numerical features although they are represented by numbers."
   ]
  },
  {
   "cell_type": "code",
   "execution_count": 43,
   "metadata": {
    "colab": {},
    "colab_type": "code",
    "id": "JJckNOeU85hK",
    "outputId": "1afcda9e-262e-41e5-b2c1-a009beeafaa8"
   },
   "outputs": [
    {
     "name": "stdout",
     "output_type": "stream",
     "text": [
      "       cvt_per_day  weighted_categorical_position  \\\n",
      "count     4226.000                       4226.000   \n",
      "mean      4218.630                          7.783   \n",
      "std      13036.080                          6.134   \n",
      "min          2.188                          1.000   \n",
      "10%        141.985                          3.000   \n",
      "25%        351.169                          4.000   \n",
      "50%       1193.500                          6.000   \n",
      "75%       3356.789                          9.000   \n",
      "95%      14692.834                         22.000   \n",
      "max     307127.606                         41.000   \n",
      "\n",
      "       weighted_horizontal_poition  imdb_votes        budget     boxoffice  \\\n",
      "count                     4226.000    4226.000      4226.000      4226.000   \n",
      "mean                        28.104    6462.924   2150743.439   2536338.472   \n",
      "std                         11.864   31596.007   7176604.483   8243516.266   \n",
      "min                          1.000       0.000         0.000         0.000   \n",
      "10%                         13.000       8.000         0.000         0.000   \n",
      "25%                         20.000      81.000         0.000         0.000   \n",
      "50%                         28.000     535.000         0.000         0.000   \n",
      "75%                         36.000    3053.000   1500000.000         0.000   \n",
      "95%                         48.000   26199.500  12000000.000   8551228.000   \n",
      "max                         70.000  948630.000 107000000.000 184208848.000   \n",
      "\n",
      "       imdb_rating  duration_in_mins  metacritic_score  star_category  \n",
      "count     4226.000          4226.000          4226.000       4226.000  \n",
      "mean         5.257            89.556            15.974          0.955  \n",
      "std          2.123            21.086            26.205          0.955  \n",
      "min          0.000             4.037             0.000          0.000  \n",
      "10%          2.300            62.391             0.000          0.000  \n",
      "25%          4.300            82.602             0.000          0.000  \n",
      "50%          5.800            90.730             0.000          1.000  \n",
      "75%          6.800            99.500            41.000          1.667  \n",
      "95%          7.800           119.131            65.000          2.597  \n",
      "max         10.000           246.017           100.000          4.000  \n",
      "video_id                            0\n",
      "cvt_per_day                         0\n",
      "weighted_categorical_position       0\n",
      "weighted_horizontal_poition         0\n",
      "import_id                           0\n",
      "release_year                        0\n",
      "genres                              0\n",
      "imdb_votes                        344\n",
      "budget                           2454\n",
      "boxoffice                        3194\n",
      "imdb_rating                       344\n",
      "duration_in_mins                    0\n",
      "metacritic_score                 3012\n",
      "awards                              0\n",
      "mpaa                                0\n",
      "star_category                    1846\n",
      "dtype: int64\n",
      "video_id                           int64\n",
      "cvt_per_day                      float64\n",
      "weighted_categorical_position      int64\n",
      "weighted_horizontal_poition        int64\n",
      "import_id                         object\n",
      "release_year                       int64\n",
      "genres                            object\n",
      "imdb_votes                         int64\n",
      "budget                             int64\n",
      "boxoffice                          int64\n",
      "imdb_rating                      float64\n",
      "duration_in_mins                 float64\n",
      "metacritic_score                   int64\n",
      "awards                            object\n",
      "mpaa                              object\n",
      "star_category                    float64\n",
      "dtype: object\n"
     ]
    }
   ],
   "source": [
    "print TV.drop(['video_id', 'release_year'],axis=1).describe(percentiles = [.1, .25, .5, .75, .95])\n",
    "print((TV == 0).sum())\n",
    "print TV.dtypes"
   ]
  },
  {
   "cell_type": "markdown",
   "metadata": {
    "colab_type": "text",
    "id": "oBuaEFZB85hN"
   },
   "source": [
    "Among the 10 numerical features (not include video_id and release_year), 4 features have over 25% of missing data: budget, boxoffice, metacritic_score, star_category. 2 features have less than 10% of missing data: imdb_votes, imdb_rating."
   ]
  },
  {
   "cell_type": "markdown",
   "metadata": {
    "colab_type": "text",
    "id": "JsTeT1z285hN"
   },
   "source": [
    "###  1.2.2 cvt_per_day feature "
   ]
  },
  {
   "cell_type": "code",
   "execution_count": 44,
   "metadata": {
    "colab": {},
    "colab_type": "code",
    "id": "2ji8W8EN85hO",
    "outputId": "c3a46eac-0acb-4fa3-bcff-6f6dd7119904"
   },
   "outputs": [
    {
     "data": {
      "image/png": "[encoded data removed]",
      "text/plain": [
       "<Figure size 432x288 with 1 Axes>"
      ]
     },
     "metadata": {
      "needs_background": "light"
     },
     "output_type": "display_data"
    },
    {
     "data": {
      "image/png": "[encoded data removed]",
      "text/plain": [
       "<Figure size 432x288 with 1 Axes>"
      ]
     },
     "metadata": {
      "needs_background": "light"
     },
     "output_type": "display_data"
    }
   ],
   "source": [
    "# cvt_per_day data explore\n",
    "plt.hist(TV['cvt_per_day'].values, bins = range(0,15000, 30), alpha = 0.5, color='r', label = 'cvt_per_day', normed = True)\n",
    "plt.legend(loc ='upper right')\n",
    "plt.title('Historgrams of cvt_per_day before data processing')\n",
    "plt.xlabel('cvt_per_day')\n",
    "plt.ylabel('density')\n",
    "plt.show()\n",
    "\n",
    "# log scale of y due to large variation\n",
    "plt.hist(TV['cvt_per_day'].values, log = True, bins = range(0,15000, 30), alpha = 0.5, color='g', label = 'cvt_per_day_log_scale', normed = True)\n",
    "plt.legend(loc ='upper right')\n",
    "plt.title('Historgrams of cvt_per_day before data processing')\n",
    "plt.xlabel('cvt_per_day_log_scale')\n",
    "plt.ylabel('density')\n",
    "plt.show()"
   ]
  },
  {
   "cell_type": "markdown",
   "metadata": {
    "colab_type": "text",
    "id": "sAFhdv6K85hS"
   },
   "source": [
    "### 1.2.3 Correlation among numerical features"
   ]
  },
  {
   "cell_type": "code",
   "execution_count": 45,
   "metadata": {
    "colab": {},
    "colab_type": "code",
    "id": "ABDoQct885hS",
    "outputId": "5c51b8e8-7e84-46fc-ee48-92022df45361"
   },
   "outputs": [
    {
     "data": {
      "text/plain": [
       "<matplotlib.axes._subplots.AxesSubplot at 0x1090aeb8>"
      ]
     },
     "execution_count": 45,
     "metadata": {},
     "output_type": "execute_result"
    },
    {
     "data": {
      "image/png": "[encoded data removed]",
      "text/plain": [
       "<Figure size 432x288 with 2 Axes>"
      ]
     },
     "metadata": {
      "needs_background": "light"
     },
     "output_type": "display_data"
    }
   ],
   "source": [
    "# correlation of the numerical features \n",
    "corr = TV[['cvt_per_day','weighted_categorical_position','weighted_horizontal_poition'\n",
    "               ,'release_year', 'imdb_votes', 'budget', 'boxoffice' ,'imdb_rating', \n",
    "               'duration_in_mins', 'metacritic_score', 'star_category']].corr()\n",
    "\n",
    "sns.heatmap(corr, cmap=\"YlGnBu\")"
   ]
  },
  {
   "cell_type": "code",
   "execution_count": 46,
   "metadata": {
    "colab": {},
    "colab_type": "code",
    "id": "pYC3-lo885hW",
    "outputId": "02c23755-f7ee-411f-e415-9be53563f342"
   },
   "outputs": [
    {
     "data": {
      "text/html": [
       "<div>\n",
       "<style scoped>\n",
       "    .dataframe tbody tr th:only-of-type {\n",
       "        vertical-align: middle;\n",
       "    }\n",
       "\n",
       "    .dataframe tbody tr th {\n",
       "        vertical-align: top;\n",
       "    }\n",
       "\n",
       "    .dataframe thead th {\n",
       "        text-align: right;\n",
       "    }\n",
       "</style>\n",
       "<table border=\"1\" class=\"dataframe\">\n",
       "  <thead>\n",
       "    <tr style=\"text-align: right;\">\n",
       "      <th></th>\n",
       "      <th>cvt_per_day</th>\n",
       "      <th>weighted_categorical_position</th>\n",
       "      <th>weighted_horizontal_poition</th>\n",
       "      <th>release_year</th>\n",
       "      <th>imdb_votes</th>\n",
       "      <th>budget</th>\n",
       "      <th>boxoffice</th>\n",
       "      <th>imdb_rating</th>\n",
       "      <th>duration_in_mins</th>\n",
       "      <th>metacritic_score</th>\n",
       "      <th>star_category</th>\n",
       "    </tr>\n",
       "  </thead>\n",
       "  <tbody>\n",
       "    <tr>\n",
       "      <th>cvt_per_day</th>\n",
       "      <td>1.000</td>\n",
       "      <td>-0.148</td>\n",
       "      <td>-0.302</td>\n",
       "      <td>0.046</td>\n",
       "      <td>0.298</td>\n",
       "      <td>0.316</td>\n",
       "      <td>0.312</td>\n",
       "      <td>0.059</td>\n",
       "      <td>0.152</td>\n",
       "      <td>0.249</td>\n",
       "      <td>0.247</td>\n",
       "    </tr>\n",
       "    <tr>\n",
       "      <th>weighted_categorical_position</th>\n",
       "      <td>-0.148</td>\n",
       "      <td>1.000</td>\n",
       "      <td>-0.084</td>\n",
       "      <td>-0.069</td>\n",
       "      <td>-0.064</td>\n",
       "      <td>-0.090</td>\n",
       "      <td>-0.074</td>\n",
       "      <td>-0.116</td>\n",
       "      <td>-0.174</td>\n",
       "      <td>-0.044</td>\n",
       "      <td>-0.123</td>\n",
       "    </tr>\n",
       "    <tr>\n",
       "      <th>weighted_horizontal_poition</th>\n",
       "      <td>-0.302</td>\n",
       "      <td>-0.084</td>\n",
       "      <td>1.000</td>\n",
       "      <td>0.027</td>\n",
       "      <td>-0.221</td>\n",
       "      <td>-0.211</td>\n",
       "      <td>-0.245</td>\n",
       "      <td>-0.162</td>\n",
       "      <td>-0.102</td>\n",
       "      <td>-0.255</td>\n",
       "      <td>-0.168</td>\n",
       "    </tr>\n",
       "    <tr>\n",
       "      <th>release_year</th>\n",
       "      <td>0.046</td>\n",
       "      <td>-0.069</td>\n",
       "      <td>0.027</td>\n",
       "      <td>1.000</td>\n",
       "      <td>-0.083</td>\n",
       "      <td>-0.040</td>\n",
       "      <td>-0.128</td>\n",
       "      <td>-0.199</td>\n",
       "      <td>-0.097</td>\n",
       "      <td>-0.167</td>\n",
       "      <td>-0.198</td>\n",
       "    </tr>\n",
       "    <tr>\n",
       "      <th>imdb_votes</th>\n",
       "      <td>0.298</td>\n",
       "      <td>-0.064</td>\n",
       "      <td>-0.221</td>\n",
       "      <td>-0.083</td>\n",
       "      <td>1.000</td>\n",
       "      <td>0.273</td>\n",
       "      <td>0.531</td>\n",
       "      <td>0.163</td>\n",
       "      <td>0.156</td>\n",
       "      <td>0.322</td>\n",
       "      <td>0.225</td>\n",
       "    </tr>\n",
       "    <tr>\n",
       "      <th>budget</th>\n",
       "      <td>0.316</td>\n",
       "      <td>-0.090</td>\n",
       "      <td>-0.211</td>\n",
       "      <td>-0.040</td>\n",
       "      <td>0.273</td>\n",
       "      <td>1.000</td>\n",
       "      <td>0.505</td>\n",
       "      <td>0.106</td>\n",
       "      <td>0.251</td>\n",
       "      <td>0.315</td>\n",
       "      <td>0.322</td>\n",
       "    </tr>\n",
       "    <tr>\n",
       "      <th>boxoffice</th>\n",
       "      <td>0.312</td>\n",
       "      <td>-0.074</td>\n",
       "      <td>-0.245</td>\n",
       "      <td>-0.128</td>\n",
       "      <td>0.531</td>\n",
       "      <td>0.505</td>\n",
       "      <td>1.000</td>\n",
       "      <td>0.164</td>\n",
       "      <td>0.226</td>\n",
       "      <td>0.465</td>\n",
       "      <td>0.322</td>\n",
       "    </tr>\n",
       "    <tr>\n",
       "      <th>imdb_rating</th>\n",
       "      <td>0.059</td>\n",
       "      <td>-0.116</td>\n",
       "      <td>-0.162</td>\n",
       "      <td>-0.199</td>\n",
       "      <td>0.163</td>\n",
       "      <td>0.106</td>\n",
       "      <td>0.164</td>\n",
       "      <td>1.000</td>\n",
       "      <td>0.344</td>\n",
       "      <td>0.347</td>\n",
       "      <td>0.192</td>\n",
       "    </tr>\n",
       "    <tr>\n",
       "      <th>duration_in_mins</th>\n",
       "      <td>0.152</td>\n",
       "      <td>-0.174</td>\n",
       "      <td>-0.102</td>\n",
       "      <td>-0.097</td>\n",
       "      <td>0.156</td>\n",
       "      <td>0.251</td>\n",
       "      <td>0.226</td>\n",
       "      <td>0.344</td>\n",
       "      <td>1.000</td>\n",
       "      <td>0.327</td>\n",
       "      <td>0.309</td>\n",
       "    </tr>\n",
       "    <tr>\n",
       "      <th>metacritic_score</th>\n",
       "      <td>0.249</td>\n",
       "      <td>-0.044</td>\n",
       "      <td>-0.255</td>\n",
       "      <td>-0.167</td>\n",
       "      <td>0.322</td>\n",
       "      <td>0.315</td>\n",
       "      <td>0.465</td>\n",
       "      <td>0.347</td>\n",
       "      <td>0.327</td>\n",
       "      <td>1.000</td>\n",
       "      <td>0.452</td>\n",
       "    </tr>\n",
       "    <tr>\n",
       "      <th>star_category</th>\n",
       "      <td>0.247</td>\n",
       "      <td>-0.123</td>\n",
       "      <td>-0.168</td>\n",
       "      <td>-0.198</td>\n",
       "      <td>0.225</td>\n",
       "      <td>0.322</td>\n",
       "      <td>0.322</td>\n",
       "      <td>0.192</td>\n",
       "      <td>0.309</td>\n",
       "      <td>0.452</td>\n",
       "      <td>1.000</td>\n",
       "    </tr>\n",
       "  </tbody>\n",
       "</table>\n",
       "</div>"
      ],
      "text/plain": [
       "                               cvt_per_day  weighted_categorical_position  \\\n",
       "cvt_per_day                          1.000                         -0.148   \n",
       "weighted_categorical_position       -0.148                          1.000   \n",
       "weighted_horizontal_poition         -0.302                         -0.084   \n",
       "release_year                         0.046                         -0.069   \n",
       "imdb_votes                           0.298                         -0.064   \n",
       "budget                               0.316                         -0.090   \n",
       "boxoffice                            0.312                         -0.074   \n",
       "imdb_rating                          0.059                         -0.116   \n",
       "duration_in_mins                     0.152                         -0.174   \n",
       "metacritic_score                     0.249                         -0.044   \n",
       "star_category                        0.247                         -0.123   \n",
       "\n",
       "                               weighted_horizontal_poition  release_year  \\\n",
       "cvt_per_day                                         -0.302         0.046   \n",
       "weighted_categorical_position                       -0.084        -0.069   \n",
       "weighted_horizontal_poition                          1.000         0.027   \n",
       "release_year                                         0.027         1.000   \n",
       "imdb_votes                                          -0.221        -0.083   \n",
       "budget                                              -0.211        -0.040   \n",
       "boxoffice                                           -0.245        -0.128   \n",
       "imdb_rating                                         -0.162        -0.199   \n",
       "duration_in_mins                                    -0.102        -0.097   \n",
       "metacritic_score                                    -0.255        -0.167   \n",
       "star_category                                       -0.168        -0.198   \n",
       "\n",
       "                               imdb_votes  budget  boxoffice  imdb_rating  \\\n",
       "cvt_per_day                         0.298   0.316      0.312        0.059   \n",
       "weighted_categorical_position      -0.064  -0.090     -0.074       -0.116   \n",
       "weighted_horizontal_poition        -0.221  -0.211     -0.245       -0.162   \n",
       "release_year                       -0.083  -0.040     -0.128       -0.199   \n",
       "imdb_votes                          1.000   0.273      0.531        0.163   \n",
       "budget                              0.273   1.000      0.505        0.106   \n",
       "boxoffice                           0.531   0.505      1.000        0.164   \n",
       "imdb_rating                         0.163   0.106      0.164        1.000   \n",
       "duration_in_mins                    0.156   0.251      0.226        0.344   \n",
       "metacritic_score                    0.322   0.315      0.465        0.347   \n",
       "star_category                       0.225   0.322      0.322        0.192   \n",
       "\n",
       "                               duration_in_mins  metacritic_score  \\\n",
       "cvt_per_day                               0.152             0.249   \n",
       "weighted_categorical_position            -0.174            -0.044   \n",
       "weighted_horizontal_poition              -0.102            -0.255   \n",
       "release_year                             -0.097            -0.167   \n",
       "imdb_votes                                0.156             0.322   \n",
       "budget                                    0.251             0.315   \n",
       "boxoffice                                 0.226             0.465   \n",
       "imdb_rating                               0.344             0.347   \n",
       "duration_in_mins                          1.000             0.327   \n",
       "metacritic_score                          0.327             1.000   \n",
       "star_category                             0.309             0.452   \n",
       "\n",
       "                               star_category  \n",
       "cvt_per_day                            0.247  \n",
       "weighted_categorical_position         -0.123  \n",
       "weighted_horizontal_poition           -0.168  \n",
       "release_year                          -0.198  \n",
       "imdb_votes                             0.225  \n",
       "budget                                 0.322  \n",
       "boxoffice                              0.322  \n",
       "imdb_rating                            0.192  \n",
       "duration_in_mins                       0.309  \n",
       "metacritic_score                       0.452  \n",
       "star_category                          1.000  "
      ]
     },
     "execution_count": 46,
     "metadata": {},
     "output_type": "execute_result"
    }
   ],
   "source": [
    "corr"
   ]
  },
  {
   "cell_type": "markdown",
   "metadata": {
    "colab_type": "text",
    "id": "TkLucGOj85hZ"
   },
   "source": [
    "## 1.3 Understand the categorical features¶ \n",
    "### 1.3.1 simple categorical features (import_id, mpaa, awards)"
   ]
  },
  {
   "cell_type": "code",
   "execution_count": 47,
   "metadata": {
    "colab": {},
    "colab_type": "code",
    "id": "aCe4USb685ha",
    "outputId": "eb8407f6-e6b2-4b7e-9ceb-868f946dbd6f"
   },
   "outputs": [
    {
     "data": {
      "image/png": "[encoded data removed]",
      "text/plain": [
       "<Figure size 432x288 with 1 Axes>"
      ]
     },
     "metadata": {
      "needs_background": "light"
     },
     "output_type": "display_data"
    },
    {
     "name": "stdout",
     "output_type": "stream",
     "text": [
      "       index  import_id\n",
      "0      other       2963\n",
      "1  lionsgate        677\n",
      "2        mgm        445\n",
      "3  paramount        141\n"
     ]
    },
    {
     "data": {
      "image/png": "[encoded data removed]",
      "text/plain": [
       "<Figure size 432x288 with 1 Axes>"
      ]
     },
     "metadata": {
      "needs_background": "light"
     },
     "output_type": "display_data"
    },
    {
     "name": "stdout",
     "output_type": "stream",
     "text": [
      "      index  mpaa\n",
      "0  NotRated  2158\n",
      "1         R  1158\n",
      "2     PG-13   426\n",
      "3        PG   353\n",
      "4         G   125\n",
      "5     NC-17     6\n"
     ]
    },
    {
     "data": {
      "image/png": "[encoded data removed]",
      "text/plain": [
       "<Figure size 432x288 with 1 Axes>"
      ]
     },
     "metadata": {
      "needs_background": "light"
     },
     "output_type": "display_data"
    },
    {
     "name": "stdout",
     "output_type": "stream",
     "text": [
      "          index  awards\n",
      "0      no award    2569\n",
      "1   other award    1453\n",
      "2         Oscar     141\n",
      "3  Golden Globe      44\n",
      "4         BAFTA      19\n"
     ]
    }
   ],
   "source": [
    "sns.stripplot(x='import_id', y='cvt_per_day', data=TV, jitter=True)\n",
    "plt.show()\n",
    "print TV['import_id'].value_counts().reset_index()\n",
    "\n",
    "sns.stripplot(x='mpaa', y='cvt_per_day', data=TV, jitter=True)\n",
    "plt.show()\n",
    "print TV['mpaa'].value_counts().reset_index()\n",
    "\n",
    "sns.stripplot(x='awards', y='cvt_per_day', data=TV, jitter=True)\n",
    "plt.show()\n",
    "print TV['awards'].value_counts().reset_index()"
   ]
  },
  {
   "cell_type": "markdown",
   "metadata": {
    "colab_type": "text",
    "id": "6lOMQulb85hd"
   },
   "source": [
    "### 1.3.2 Distribution of splited genres\n",
    "Some videos belongs to more than 1 genre, the genre of each video is splited, this would help emphasize the effect of each individual genre."
   ]
  },
  {
   "cell_type": "code",
   "execution_count": 48,
   "metadata": {
    "colab": {},
    "colab_type": "code",
    "id": "CeZpA8VJ85he",
    "outputId": "c7068d5c-eed5-4d62-fb05-af15eee369e5"
   },
   "outputs": [
    {
     "data": {
      "text/plain": [
       "<matplotlib.axes._subplots.AxesSubplot at 0xe64dd30>"
      ]
     },
     "execution_count": 48,
     "metadata": {},
     "output_type": "execute_result"
    },
    {
     "data": {
      "image/png": "[encoded data removed]",
      "text/plain": [
       "<Figure size 432x288 with 1 Axes>"
      ]
     },
     "metadata": {
      "needs_background": "light"
     },
     "output_type": "display_data"
    }
   ],
   "source": [
    "# generes explore, split the genre of each video\n",
    "gen_split = TV['genres'].str.get_dummies(sep=',').mul(1, axis=0).sum()\n",
    "gen_split.sort_values(ascending=False).plot.bar()"
   ]
  },
  {
   "cell_type": "markdown",
   "metadata": {
    "colab_type": "text",
    "id": "6z1j2mqQ85hh"
   },
   "source": [
    "6 genres including Anime, Reality, Lifestyle, Adult, LGBT, Holiday have low frequencies. Therefore, during feature processing, they will be grouped together as: 'Misc_gen' in the feature 'genres'."
   ]
  },
  {
   "cell_type": "markdown",
   "metadata": {
    "colab_type": "text",
    "id": "DugZNSVf85hh"
   },
   "source": [
    "### 1.3.3 Distribution of release_year\n",
    "The release year of video varies through a wide range. Considering the popularity of a video usually decays over time, the release_year should be bucketed based on the release_year range. "
   ]
  },
  {
   "cell_type": "code",
   "execution_count": 49,
   "metadata": {
    "colab": {},
    "colab_type": "code",
    "id": "PNN2EFXK85hi",
    "outputId": "1ddffec2-3034-438b-a7c4-b06ead4accf7"
   },
   "outputs": [
    {
     "data": {
      "image/png": "[encoded data removed]",
      "text/plain": [
       "<Figure size 432x288 with 1 Axes>"
      ]
     },
     "metadata": {
      "needs_background": "light"
     },
     "output_type": "display_data"
    },
    {
     "name": "stdout",
     "output_type": "stream",
     "text": [
      "count   4226.000\n",
      "mean    2001.057\n",
      "std       17.497\n",
      "min     1916.000\n",
      "10%     1974.000\n",
      "20%     1991.000\n",
      "30%     2001.000\n",
      "40%     2006.000\n",
      "50%     2008.000\n",
      "60%     2010.000\n",
      "70%     2012.000\n",
      "80%     2013.000\n",
      "90%     2014.000\n",
      "max     2017.000\n",
      "Name: release_year, dtype: float64\n"
     ]
    }
   ],
   "source": [
    "plt.figure(1)\n",
    "plt.hist(TV['release_year'].values, bins = range(1910, 2017, 1), alpha = 0.5, color='r', label = 'release_year', normed = True)\n",
    "plt.legend(loc ='upper left')\n",
    "plt.title('Historgrams of release_year before data processing')\n",
    "plt.xlabel('release_year')\n",
    "plt.ylabel('density')\n",
    "plt.show()\n",
    "\n",
    "print TV['release_year'].describe(percentiles = [.1, .2, .3, .4,.5, .6, .7, .8, .9])"
   ]
  },
  {
   "cell_type": "markdown",
   "metadata": {
    "colab_type": "text",
    "id": "pvGIGjHg85hn"
   },
   "source": [
    "# Part 2: Feature Preprocessing"
   ]
  },
  {
   "cell_type": "markdown",
   "metadata": {
    "colab_type": "text",
    "id": "eBzmvXA785ho"
   },
   "source": [
    "## 2.1 Categorical features\n",
    "There are 5 categorical features: import_id, mpaa, awards, genres, and release_year. There is no missing data in them. They can be converted into dummy/indicators.\n",
    "\n",
    "The first 3 have relatively small sub-types, they can be easily converted to dummies.\n",
    "\n",
    "The 'genres' have 27 different sub-types, 6 of them are rarely observed (refer to previous section). It's reasonable to group these 6 into 1. Note: a video may have more than one genre, in the feature preprocessing, all genres are handled individually.\n",
    "\n",
    "The release_year is bined into 10 buckets based on the year range between 1917 and 2017."
   ]
  },
  {
   "cell_type": "code",
   "execution_count": 50,
   "metadata": {
    "colab": {},
    "colab_type": "code",
    "id": "FWaGLrZi85hp"
   },
   "outputs": [],
   "source": [
    "# Convert 3 Categorical variables into dummy variables\n",
    "d_import_id = pd.get_dummies(TV['import_id']).astype(np.int64)\n",
    "d_mpaa = pd.get_dummies(TV['mpaa']).astype(np.int64)\n",
    "d_awards = pd.get_dummies(TV['awards']).astype(np.int64)"
   ]
  },
  {
   "cell_type": "code",
   "execution_count": 51,
   "metadata": {
    "colab": {},
    "colab_type": "code",
    "id": "41TIBYil85ht"
   },
   "outputs": [],
   "source": [
    "# Convert 'genres' into dummy variables\n",
    "d_genres = pd.DataFrame() \n",
    "for genre in ['Action', 'Adult', 'Adventure', 'Animation', 'Anime', 'Comedy', 'Crime', 'Documentary', 'Drama'\n",
    "          , 'Fantasy', 'Foreign/International', 'Holiday', 'Horror', 'Independent', 'Kids & Family', 'LGBT', \n",
    "          'Lifestyle', 'Music', 'Musicals','Mystery', 'Reality', 'Romance','Sci-Fi', 'Sport', 'Thriller', 'War', \n",
    "          'Western']:\n",
    "    gen_lst = []\n",
    "    for i in range(4226):        \n",
    "        if genre in TV['genres'][i]:\n",
    "            gen_lst.append(1)    \n",
    "        else: \n",
    "            gen_lst.append(0)  \n",
    "    d_genres[genre] = pd.Series(gen_lst).values\n",
    "    \n",
    "# combine 6 smallest genres into a new genre 'Misc_gen'. Use bitwise operation '|', then drop these 6 columns.\n",
    "d_genres['Misc_gen'] = d_genres['Anime']|d_genres['Reality']|d_genres['Lifestyle']|d_genres['Adult']|d_genres['LGBT']|d_genres['Holiday']\n",
    "d_genres.drop(['Anime', 'Reality','Lifestyle', 'Adult','LGBT','Holiday'], inplace=True, axis=1)"
   ]
  },
  {
   "cell_type": "code",
   "execution_count": 52,
   "metadata": {
    "colab": {},
    "colab_type": "code",
    "id": "Oj6_mSXM85hv"
   },
   "outputs": [],
   "source": [
    "# bin release_year and convert into dummies\n",
    "bin_year = [1916, 1974, 1991, 2001, 2006, 2008, 2010, 2012, 2013, 2014,2017]\n",
    "year_range = ['1916-1974', '1974-1991', '1991-2001', '2001-2006','2006-2008','2008-2010','2010-2012','2012-2013',\n",
    "              '2013-2014','2014-2017']\n",
    "year_bin = pd.cut(TV['release_year'], bin_year, labels=year_range)\n",
    "d_year = pd.get_dummies(year_bin).astype(np.int64)"
   ]
  },
  {
   "cell_type": "code",
   "execution_count": 53,
   "metadata": {
    "colab": {},
    "colab_type": "code",
    "id": "C_nUzDiq85hx",
    "outputId": "d1d8cb29-ec4d-4dc1-aeda-adeb36e658a5",
    "scrolled": true
   },
   "outputs": [
    {
     "name": "stdout",
     "output_type": "stream",
     "text": [
      "(4226, 58)\n",
      "[]\n",
      "   video_id  cvt_per_day  weighted_categorical_position  \\\n",
      "0    385504   307127.606                              1   \n",
      "1    300175   270338.426                              1   \n",
      "2    361899   256165.867                              1   \n",
      "3    308314   196622.721                              3   \n",
      "4    307201   159841.652                              1   \n",
      "\n",
      "   weighted_horizontal_poition  imdb_votes    budget  boxoffice  imdb_rating  \\\n",
      "0                            3       69614  15000000   42930462        6.500   \n",
      "1                            3       46705  15000000    3301046        6.500   \n",
      "2                            3      197596  26000000   37397291        7.300   \n",
      "3                            4      356339  15000000   15700000        7.600   \n",
      "4                            3       46720  27220000    8551228        6.400   \n",
      "\n",
      "   duration_in_mins  metacritic_score    ...      1916-1974  1974-1991  \\\n",
      "0           112.301                51    ...              0          0   \n",
      "1            94.983                41    ...              0          0   \n",
      "2           115.764                58    ...              0          0   \n",
      "3           130.704                94    ...              0          0   \n",
      "4           105.546                37    ...              0          0   \n",
      "\n",
      "   1991-2001  2001-2006  2006-2008  2008-2010  2010-2012  2012-2013  \\\n",
      "0          0          0          0          0          0          1   \n",
      "1          0          0          0          0          0          1   \n",
      "2          0          0          0          0          1          0   \n",
      "3          0          0          1          0          0          0   \n",
      "4          0          0          0          0          0          1   \n",
      "\n",
      "   2013-2014  2014-2017  \n",
      "0          0          0  \n",
      "1          0          0  \n",
      "2          0          0  \n",
      "3          0          0  \n",
      "4          0          0  \n",
      "\n",
      "[5 rows x 58 columns]\n"
     ]
    }
   ],
   "source": [
    "# new dataframe, drop the previous categorical features, add new dummy variables, check for null\n",
    "TV_temp = TV.drop(['import_id', 'mpaa','awards','genres', 'release_year'], axis=1)\n",
    "newTV = pd.concat([TV_temp, d_import_id, d_mpaa, d_awards, d_genres, d_year], axis=1)\n",
    "print newTV.shape\n",
    "print pd.isnull(newTV).any(1).nonzero()[0]\n",
    "print newTV.head()\n",
    "newTV_0 = newTV.copy() # a copy of newTV"
   ]
  },
  {
   "cell_type": "markdown",
   "metadata": {
    "colab_type": "text",
    "id": "_6-5bLUG85h3"
   },
   "source": [
    "Feature space holds 4226 observations and 58 features in total.\n",
    "\n",
    "There is NO null data. newTV_0 is kepted as the raw dataframe before any further feature processing, e.g. replace 0 with null, missing data fill etc. "
   ]
  },
  {
   "cell_type": "markdown",
   "metadata": {
    "colab_type": "text",
    "id": "NYmh3ooX85h4"
   },
   "source": [
    "## 2.2 Handling of missing data \n",
    "Among the 10 numerical features (not include video_id), 4 features have over 25% of missing values (shown as '0', which is not possible in reality): budget, boxoffice, metacritic_score, star_category. 2 features have less than 10% of missing data: imdb_votes, imdb_rating.\n",
    "\n",
    "There are 3242 samples have at least one missing data."
   ]
  },
  {
   "cell_type": "code",
   "execution_count": 54,
   "metadata": {
    "colab": {},
    "colab_type": "code",
    "id": "bSSS3Lsf85h4",
    "outputId": "59d9e50a-ff0a-447f-be47-7a98046b1632",
    "scrolled": true
   },
   "outputs": [
    {
     "name": "stdout",
     "output_type": "stream",
     "text": [
      "video_id                            0\n",
      "cvt_per_day                         0\n",
      "weighted_categorical_position       0\n",
      "weighted_horizontal_poition         0\n",
      "imdb_votes                        344\n",
      "budget                           2454\n",
      "boxoffice                        3194\n",
      "imdb_rating                       344\n",
      "duration_in_mins                    0\n",
      "metacritic_score                 3012\n",
      "star_category                    1846\n",
      "lionsgate                           0\n",
      "mgm                                 0\n",
      "other                               0\n",
      "paramount                           0\n",
      "G                                   0\n",
      "NC-17                               0\n",
      "NotRated                            0\n",
      "PG                                  0\n",
      "PG-13                               0\n",
      "R                                   0\n",
      "BAFTA                               0\n",
      "Golden Globe                        0\n",
      "Oscar                               0\n",
      "no award                            0\n",
      "other award                         0\n",
      "Action                              0\n",
      "Adventure                           0\n",
      "Animation                           0\n",
      "Comedy                              0\n",
      "Crime                               0\n",
      "Documentary                         0\n",
      "Drama                               0\n",
      "Fantasy                             0\n",
      "Foreign/International               0\n",
      "Horror                              0\n",
      "Independent                         0\n",
      "Kids & Family                       0\n",
      "Music                               0\n",
      "Musicals                            0\n",
      "Mystery                             0\n",
      "Romance                             0\n",
      "Sci-Fi                              0\n",
      "Sport                               0\n",
      "Thriller                            0\n",
      "War                                 0\n",
      "Western                             0\n",
      "Misc_gen                            0\n",
      "1916-1974                           0\n",
      "1974-1991                           0\n",
      "1991-2001                           0\n",
      "2001-2006                           0\n",
      "2006-2008                           0\n",
      "2008-2010                           0\n",
      "2010-2012                           0\n",
      "2012-2013                           0\n",
      "2013-2014                           0\n",
      "2014-2017                           0\n",
      "dtype: int64\n",
      "videos having at least one null:  3242\n"
     ]
    }
   ],
   "source": [
    "# mark zero values as NaN\n",
    "newTV[['budget','boxoffice','metacritic_score', 'star_category','imdb_votes', 'imdb_rating']] = newTV[['budget','boxoffice','metacritic_score', 'star_category','imdb_votes', 'imdb_rating']].replace(0, np.nan)\n",
    "\n",
    "# count the number of NaN values in each column\n",
    "print newTV.isnull().sum()\n",
    "\n",
    "#count the number videos who have at least one missing data \n",
    "print 'videos having at least one null: ', newTV.isnull().any(axis=1).sum()"
   ]
  },
  {
   "cell_type": "markdown",
   "metadata": {
    "colab_type": "text",
    "id": "t4KFHLKJ85h7"
   },
   "source": [
    "### 2.2.1 Filling missing data with mean value\n",
    "For imdb_voates and imdb_rating, they always show 'null' together, which is reasonable, since when a imdb_votes is missing, the imdb_rating is mostly also missing. For all 6 features with missiong data, the 1st attempt is to fill in with their mean value."
   ]
  },
  {
   "cell_type": "code",
   "execution_count": 55,
   "metadata": {
    "colab": {},
    "colab_type": "code",
    "id": "U_QpAc1t85h8"
   },
   "outputs": [],
   "source": [
    "# fill missing values with the column mean\n",
    "newTV_i1 = newTV.copy()\n",
    "newTV_i1['budget'].fillna(newTV_i1['budget'].mean(), inplace=True)\n",
    "newTV_i1['boxoffice'].fillna(newTV_i1['boxoffice'].mean(), inplace=True)\n",
    "newTV_i1['metacritic_score'].fillna(newTV_i1['metacritic_score'].mean(), inplace=True)\n",
    "newTV_i1['star_category'].fillna(newTV_i1['star_category'].mean(), inplace=True)\n",
    "newTV_i1['imdb_votes'].fillna(newTV_i1['imdb_votes'].mean(), inplace=True)\n",
    "newTV_i1['imdb_rating'].fillna(newTV_i1['imdb_rating'].mean(), inplace=True)"
   ]
  },
  {
   "cell_type": "markdown",
   "metadata": {
    "colab_type": "text",
    "id": "KTau77aZ85h-"
   },
   "source": [
    "newTV_i1 have the feature processing as: fill the missing data in budget, boxoffice, metacritic_score, star_category, imdb_votes, imdb_rating with mean. It will be tested in the upcoming models. "
   ]
  },
  {
   "cell_type": "markdown",
   "metadata": {},
   "source": [
    "### 2.2.1 Filling missing data by linear regression"
   ]
  },
  {
   "cell_type": "markdown",
   "metadata": {},
   "source": [
    "#### 2.2.1 Filling in imbd_votes by linear regression"
   ]
  },
  {
   "cell_type": "code",
   "execution_count": 56,
   "metadata": {},
   "outputs": [],
   "source": [
    "newTV_i2 = newTV.copy()\n",
    "newTV_i2['budget'].fillna(newTV_i1['budget'].mean(), inplace=True)\n",
    "newTV_i2['boxoffice'].fillna(newTV_i1['boxoffice'].mean(), inplace=True)\n",
    "newTV_i2['metacritic_score'].fillna(newTV_i1['metacritic_score'].mean(), inplace=True)\n",
    "newTV_i2['star_category'].fillna(newTV_i1['star_category'].mean(), inplace=True)\n",
    "#newTV_i1['imdb_votes'].fillna(newTV_i1['imdb_votes'].mean(), inplace=True)\n",
    "newTV_i2['imdb_rating'].fillna(newTV_i1['imdb_rating'].mean(), inplace=True)\n",
    "#newTV_i2.isnull().sum()\n",
    "\n",
    "from sklearn import linear_model\n",
    "from sklearn.model_selection import train_test_split\n",
    "from sklearn.metrics import mean_squared_error, r2_score\n",
    "\n",
    "# index of non-null index for imdb_votes\n",
    "votes_index = np.where(newTV_i2['imdb_votes'].notnull())[0]\n",
    "# index of null index for imdb_votes\n",
    "votes_null_index = np.where(newTV_i2['imdb_votes'].isnull())[0]\n",
    "\n",
    "votes_all = pd.DataFrame(newTV_i2, index = list(votes_index), columns = list(newTV_i2))\n",
    "votes_null = pd.DataFrame(newTV_i2, index = list(votes_null_index), columns = list(newTV_i2))\n",
    "\n",
    "votes_train, votes_test = train_test_split(votes_all, test_size=0.2, random_state = 0)\n",
    "votes_train_x = votes_train.drop('imdb_votes', axis = 1)\n",
    "votes_test_x = votes_test.drop('imdb_votes', axis = 1)\n",
    "votes_train_y = votes_train['imdb_votes']\n",
    "votes_test_y = votes_test['imdb_votes']\n",
    "\n"
   ]
  },
  {
   "cell_type": "code",
   "execution_count": 57,
   "metadata": {},
   "outputs": [
    {
     "name": "stdout",
     "output_type": "stream",
     "text": [
      "('The optimaized alpha and score of Lasso linear is: ', 359.38136638046257, 0.519637411202786)\n"
     ]
    },
    {
     "data": {
      "image/png": "[encoded data removed]",
      "text/plain": [
       "<Figure size 432x288 with 1 Axes>"
      ]
     },
     "metadata": {
      "needs_background": "light"
     },
     "output_type": "display_data"
    }
   ],
   "source": [
    "\n",
    "alphas = np.logspace(1, 3, 10)\n",
    "#print (alphas)\n",
    "scores = np.empty_like(alphas)\n",
    "#print (scores)\n",
    "opt_a = float('-inf')\n",
    "max_score = float('-inf')\n",
    "for i, a in enumerate(alphas):\n",
    "    lasso = linear_model.Lasso()\n",
    "    lasso.set_params(alpha =a)\n",
    "    lasso.fit(votes_train_x, votes_train_y)\n",
    "    scores[i] = lasso.score(votes_test_x, votes_test_y)\n",
    "    if scores[i] > max_score:\n",
    "        max_score = scores[i]\n",
    "        opt_a = a\n",
    "        lasso_save = lasso\n",
    "print  ('The optimaized alpha and score of Lasso linear is: ', opt_a, max_score)\n",
    "plt.plot(alphas, scores, color='b', linestyle='dashed', marker='o',markerfacecolor='blue', markersize=6)\n",
    "plt.xlabel('alpha')\n",
    "plt.ylabel('score')\n",
    "plt.grid(True)\n",
    "plt.title('score vs. alpha')\n",
    "plt.show()"
   ]
  },
  {
   "cell_type": "code",
   "execution_count": 58,
   "metadata": {},
   "outputs": [],
   "source": [
    "# predict the missing values with best alpha and fill in the missing values\n",
    "lasso_fillNan = linear_model.Lasso()\n",
    "lasso_fillNan.set_params (alpha = opt_a)\n",
    "lasso_fillNan.fit(votes_train_x, votes_train_y)\n",
    "pred_null = lasso_fillNan.predict(votes_null.drop('imdb_votes', axis = 1)).astype('int64')\n",
    "#print newTV_i2.isnull().sum()\n",
    "newTV_i2.loc [votes_null_index, 'imdb_votes'] = pred_null\n",
    "#print newTV_i2.isnull().sum()"
   ]
  },
  {
   "cell_type": "markdown",
   "metadata": {},
   "source": [
    "#### 2.2.1 Filling in imbd_votes by linear regression"
   ]
  },
  {
   "cell_type": "markdown",
   "metadata": {
    "colab_type": "text",
    "id": "8CL2115p85h_"
   },
   "source": [
    "## 2.3 Feature scaling\n",
    "The impact of different scaling methods on the model performance is small. In the following model training and selections, the standard scaling (sc) data is used. "
   ]
  },
  {
   "cell_type": "code",
   "execution_count": 59,
   "metadata": {
    "colab": {},
    "colab_type": "code",
    "id": "2bFxgLeK85iA",
    "outputId": "824b0267-8410-4395-9dc5-05aeaf64adb1"
   },
   "outputs": [
    {
     "data": {
      "text/html": [
       "<div>\n",
       "<style scoped>\n",
       "    .dataframe tbody tr th:only-of-type {\n",
       "        vertical-align: middle;\n",
       "    }\n",
       "\n",
       "    .dataframe tbody tr th {\n",
       "        vertical-align: top;\n",
       "    }\n",
       "\n",
       "    .dataframe thead th {\n",
       "        text-align: right;\n",
       "    }\n",
       "</style>\n",
       "<table border=\"1\" class=\"dataframe\">\n",
       "  <thead>\n",
       "    <tr style=\"text-align: right;\">\n",
       "      <th></th>\n",
       "      <th>video_id</th>\n",
       "      <th>cvt_per_day</th>\n",
       "      <th>weighted_categorical_position</th>\n",
       "      <th>weighted_horizontal_poition</th>\n",
       "      <th>imdb_votes</th>\n",
       "      <th>budget</th>\n",
       "      <th>boxoffice</th>\n",
       "      <th>imdb_rating</th>\n",
       "      <th>duration_in_mins</th>\n",
       "      <th>metacritic_score</th>\n",
       "      <th>...</th>\n",
       "      <th>1916-1974</th>\n",
       "      <th>1974-1991</th>\n",
       "      <th>1991-2001</th>\n",
       "      <th>2001-2006</th>\n",
       "      <th>2006-2008</th>\n",
       "      <th>2008-2010</th>\n",
       "      <th>2010-2012</th>\n",
       "      <th>2012-2013</th>\n",
       "      <th>2013-2014</th>\n",
       "      <th>2014-2017</th>\n",
       "    </tr>\n",
       "  </thead>\n",
       "  <tbody>\n",
       "    <tr>\n",
       "      <th>0</th>\n",
       "      <td>385504</td>\n",
       "      <td>307127.606</td>\n",
       "      <td>-1.106</td>\n",
       "      <td>-2.116</td>\n",
       "      <td>1.994</td>\n",
       "      <td>1.470</td>\n",
       "      <td>4.696</td>\n",
       "      <td>0.542</td>\n",
       "      <td>1.079</td>\n",
       "      <td>-0.630</td>\n",
       "      <td>...</td>\n",
       "      <td>0</td>\n",
       "      <td>0</td>\n",
       "      <td>0</td>\n",
       "      <td>0</td>\n",
       "      <td>0</td>\n",
       "      <td>0</td>\n",
       "      <td>0</td>\n",
       "      <td>1</td>\n",
       "      <td>0</td>\n",
       "      <td>0</td>\n",
       "    </tr>\n",
       "    <tr>\n",
       "      <th>1</th>\n",
       "      <td>300175</td>\n",
       "      <td>270338.426</td>\n",
       "      <td>-1.106</td>\n",
       "      <td>-2.116</td>\n",
       "      <td>1.271</td>\n",
       "      <td>1.470</td>\n",
       "      <td>-1.022</td>\n",
       "      <td>0.542</td>\n",
       "      <td>0.257</td>\n",
       "      <td>-1.997</td>\n",
       "      <td>...</td>\n",
       "      <td>0</td>\n",
       "      <td>0</td>\n",
       "      <td>0</td>\n",
       "      <td>0</td>\n",
       "      <td>0</td>\n",
       "      <td>0</td>\n",
       "      <td>0</td>\n",
       "      <td>1</td>\n",
       "      <td>0</td>\n",
       "      <td>0</td>\n",
       "    </tr>\n",
       "    <tr>\n",
       "      <th>2</th>\n",
       "      <td>361899</td>\n",
       "      <td>256165.867</td>\n",
       "      <td>-1.106</td>\n",
       "      <td>-2.116</td>\n",
       "      <td>6.034</td>\n",
       "      <td>3.108</td>\n",
       "      <td>3.898</td>\n",
       "      <td>1.100</td>\n",
       "      <td>1.243</td>\n",
       "      <td>0.327</td>\n",
       "      <td>...</td>\n",
       "      <td>0</td>\n",
       "      <td>0</td>\n",
       "      <td>0</td>\n",
       "      <td>0</td>\n",
       "      <td>0</td>\n",
       "      <td>0</td>\n",
       "      <td>1</td>\n",
       "      <td>0</td>\n",
       "      <td>0</td>\n",
       "      <td>0</td>\n",
       "    </tr>\n",
       "    <tr>\n",
       "      <th>3</th>\n",
       "      <td>308314</td>\n",
       "      <td>196622.721</td>\n",
       "      <td>-0.780</td>\n",
       "      <td>-2.032</td>\n",
       "      <td>11.045</td>\n",
       "      <td>1.470</td>\n",
       "      <td>0.767</td>\n",
       "      <td>1.309</td>\n",
       "      <td>1.952</td>\n",
       "      <td>5.250</td>\n",
       "      <td>...</td>\n",
       "      <td>0</td>\n",
       "      <td>0</td>\n",
       "      <td>0</td>\n",
       "      <td>0</td>\n",
       "      <td>1</td>\n",
       "      <td>0</td>\n",
       "      <td>0</td>\n",
       "      <td>0</td>\n",
       "      <td>0</td>\n",
       "      <td>0</td>\n",
       "    </tr>\n",
       "    <tr>\n",
       "      <th>4</th>\n",
       "      <td>307201</td>\n",
       "      <td>159841.652</td>\n",
       "      <td>-1.106</td>\n",
       "      <td>-2.116</td>\n",
       "      <td>1.271</td>\n",
       "      <td>3.290</td>\n",
       "      <td>-0.265</td>\n",
       "      <td>0.472</td>\n",
       "      <td>0.758</td>\n",
       "      <td>-2.544</td>\n",
       "      <td>...</td>\n",
       "      <td>0</td>\n",
       "      <td>0</td>\n",
       "      <td>0</td>\n",
       "      <td>0</td>\n",
       "      <td>0</td>\n",
       "      <td>0</td>\n",
       "      <td>0</td>\n",
       "      <td>1</td>\n",
       "      <td>0</td>\n",
       "      <td>0</td>\n",
       "    </tr>\n",
       "  </tbody>\n",
       "</table>\n",
       "<p>5 rows × 58 columns</p>\n",
       "</div>"
      ],
      "text/plain": [
       "   video_id  cvt_per_day  weighted_categorical_position  \\\n",
       "0    385504   307127.606                         -1.106   \n",
       "1    300175   270338.426                         -1.106   \n",
       "2    361899   256165.867                         -1.106   \n",
       "3    308314   196622.721                         -0.780   \n",
       "4    307201   159841.652                         -1.106   \n",
       "\n",
       "   weighted_horizontal_poition  imdb_votes  budget  boxoffice  imdb_rating  \\\n",
       "0                       -2.116       1.994   1.470      4.696        0.542   \n",
       "1                       -2.116       1.271   1.470     -1.022        0.542   \n",
       "2                       -2.116       6.034   3.108      3.898        1.100   \n",
       "3                       -2.032      11.045   1.470      0.767        1.309   \n",
       "4                       -2.116       1.271   3.290     -0.265        0.472   \n",
       "\n",
       "   duration_in_mins  metacritic_score    ...      1916-1974  1974-1991  \\\n",
       "0             1.079            -0.630    ...              0          0   \n",
       "1             0.257            -1.997    ...              0          0   \n",
       "2             1.243             0.327    ...              0          0   \n",
       "3             1.952             5.250    ...              0          0   \n",
       "4             0.758            -2.544    ...              0          0   \n",
       "\n",
       "   1991-2001  2001-2006  2006-2008  2008-2010  2010-2012  2012-2013  \\\n",
       "0          0          0          0          0          0          1   \n",
       "1          0          0          0          0          0          1   \n",
       "2          0          0          0          0          1          0   \n",
       "3          0          0          1          0          0          0   \n",
       "4          0          0          0          0          0          1   \n",
       "\n",
       "   2013-2014  2014-2017  \n",
       "0          0          0  \n",
       "1          0          0  \n",
       "2          0          0  \n",
       "3          0          0  \n",
       "4          0          0  \n",
       "\n",
       "[5 rows x 58 columns]"
      ]
     },
     "execution_count": 59,
     "metadata": {},
     "output_type": "execute_result"
    }
   ],
   "source": [
    "#Standard scaling\n",
    "scale_lst = ['weighted_categorical_position', 'weighted_horizontal_poition', 'budget','boxoffice', \n",
    "             'imdb_votes','imdb_rating','duration_in_mins', 'metacritic_score','star_category']\n",
    "newTV_sc = newTV_i2.copy()\n",
    "\n",
    "sc_scale = preprocessing.StandardScaler().fit(newTV_sc[scale_lst])\n",
    "newTV_sc[scale_lst] = sc_scale.transform(newTV_sc[scale_lst])\n",
    "\n",
    "newTV_sc.head()"
   ]
  },
  {
   "cell_type": "code",
   "execution_count": 60,
   "metadata": {
    "colab": {},
    "colab_type": "code",
    "id": "6G_1GmWL85iC"
   },
   "outputs": [],
   "source": [
    "# MinMax scaling\n",
    "newTV_mm = newTV_i2.copy()\n",
    "mm_scale = preprocessing.MinMaxScaler().fit(newTV_mm[scale_lst])\n",
    "newTV_mm[scale_lst] = mm_scale.transform(newTV_mm[scale_lst])"
   ]
  },
  {
   "cell_type": "code",
   "execution_count": 61,
   "metadata": {
    "colab": {},
    "colab_type": "code",
    "id": "4AqU4JLW85iF"
   },
   "outputs": [],
   "source": [
    "# Robust scaling\n",
    "newTV_rs = newTV_i2.copy()\n",
    "rs_scale = preprocessing.RobustScaler().fit(newTV_mm[scale_lst])\n",
    "newTV_rs[scale_lst] = rs_scale.transform(newTV_rs[scale_lst])"
   ]
  },
  {
   "cell_type": "markdown",
   "metadata": {
    "colab_type": "text",
    "id": "gPdUDet-85iI"
   },
   "source": [
    "# Part 3: Model Training \n",
    "\n",
    "85% of the samples will be used to train all the models, and 15% is reserved for test the models in next section."
   ]
  },
  {
   "cell_type": "code",
   "execution_count": 62,
   "metadata": {
    "colab": {},
    "colab_type": "code",
    "id": "JZEeK2Ic85iI"
   },
   "outputs": [],
   "source": [
    "# The 15% test data will kept aside, they won't be seen by the models until final test/comparison.\n",
    "from sklearn.model_selection import train_test_split\n",
    "\n",
    "model_train, model_test = train_test_split(newTV_sc, test_size=0.15, random_state = 3)\n",
    "model_train_x = model_train.drop(['video_id', 'cvt_per_day'], axis = 1)\n",
    "model_test_x = model_test.drop(['video_id', 'cvt_per_day'], axis = 1)\n",
    "model_train_y = model_train['cvt_per_day']\n",
    "model_test_y = model_test['cvt_per_day']"
   ]
  },
  {
   "cell_type": "markdown",
   "metadata": {
    "colab_type": "text",
    "id": "ljlgJhkF85iL"
   },
   "source": [
    "## 3.1 Linear models"
   ]
  },
  {
   "cell_type": "markdown",
   "metadata": {
    "colab_type": "text",
    "id": "a3SQGQZp85iM"
   },
   "source": [
    "###  3.1.1 Lasso linear regression\n",
    "#### 1) All featuers are linear"
   ]
  },
  {
   "cell_type": "code",
   "execution_count": 63,
   "metadata": {
    "colab": {},
    "colab_type": "code",
    "id": "ba09M5C685iN",
    "outputId": "79af9580-d1fd-4a9c-a221-cadceaac754d"
   },
   "outputs": [
    {
     "data": {
      "image/png": "[encoded data removed]",
      "text/plain": [
       "<Figure size 432x288 with 1 Axes>"
      ]
     },
     "metadata": {
      "needs_background": "light"
     },
     "output_type": "display_data"
    },
    {
     "name": "stdout",
     "output_type": "stream",
     "text": [
      "The optimaized alpha and score of Lasso linear is:  122.06107238906554 0.36972081561208636\n"
     ]
    }
   ],
   "source": [
    "from sklearn.model_selection import train_test_split\n",
    "from sklearn.linear_model import LinearRegression, Lasso, Ridge\n",
    "from sklearn.metrics import mean_squared_error, r2_score\n",
    "from math import sqrt\n",
    "\n",
    "lr_train, lr_validate = train_test_split(model_train, test_size=0.15, random_state = 0)\n",
    "\n",
    "lr_train_x = lr_train.drop(['video_id', 'cvt_per_day'], axis = 1)\n",
    "lr_validate_x = lr_validate.drop(['video_id', 'cvt_per_day'], axis = 1)\n",
    "lr_train_y = lr_train['cvt_per_day']\n",
    "lr_validate_y = lr_validate['cvt_per_day']\n",
    "\n",
    "alphas = np.logspace (-0.3, 2.5, num=150)\n",
    "# alphas= [0.000000001]\n",
    "scores = np.empty_like(alphas)\n",
    "opt_a = float('-inf')\n",
    "max_score = float('-inf')\n",
    "for i, a in enumerate(alphas):\n",
    "    lasso = Lasso()\n",
    "    lasso.set_params(alpha = a)\n",
    "    lasso.fit(lr_train_x, lr_train_y)\n",
    "    scores[i] = lasso.score(lr_validate_x, lr_validate_y)\n",
    "    if scores[i] > max_score:\n",
    "        max_score = scores[i]\n",
    "        opt_a = a\n",
    "        lasso_save = lasso\n",
    "plt.plot(alphas, scores, color='b', linestyle='dashed', marker='o',markerfacecolor='blue', markersize=6)\n",
    "plt.xlabel('alpha')\n",
    "plt.ylabel('score')\n",
    "plt.grid(True)\n",
    "plt.title('score vs. alpha')\n",
    "plt.show()\n",
    "print 'The optimaized alpha and score of Lasso linear is: ', opt_a, max_score"
   ]
  },
  {
   "cell_type": "code",
   "execution_count": 64,
   "metadata": {
    "colab": {},
    "colab_type": "code",
    "id": "DUL3RRL_85iQ",
    "outputId": "fa5411d7-3e11-42ad-cd4c-79ec7e298608"
   },
   "outputs": [
    {
     "data": {
      "text/plain": [
       "Lasso(alpha=122.06107238906554, copy_X=True, fit_intercept=True,\n",
       "   max_iter=1000, normalize=False, positive=False, precompute=False,\n",
       "   random_state=None, selection='cyclic', tol=0.0001, warm_start=False)"
      ]
     },
     "execution_count": 64,
     "metadata": {},
     "output_type": "execute_result"
    }
   ],
   "source": [
    "# combine the validate data and training data, use the optimal alpha, re-train the model\n",
    "lasso_f = Lasso()\n",
    "lasso_f.set_params(alpha = opt_a)\n",
    "lasso_f.fit(model_train_x, model_train_y)\n",
    "\n",
    "# lasso_f is the Lasso model (linear feature), to be tested with final test data."
   ]
  },
  {
   "cell_type": "markdown",
   "metadata": {
    "colab_type": "text",
    "id": "Q0YwuWVe85iS"
   },
   "source": [
    "#### 2) Ploynomial features"
   ]
  },
  {
   "cell_type": "code",
   "execution_count": 65,
   "metadata": {
    "colab": {},
    "colab_type": "code",
    "id": "2jQXKyh785iT",
    "outputId": "ca2b5517-beae-4c86-c23b-08d47c5fcee3"
   },
   "outputs": [
    {
     "data": {
      "image/png": "[encoded data removed]",
      "text/plain": [
       "<Figure size 432x288 with 1 Axes>"
      ]
     },
     "metadata": {
      "needs_background": "light"
     },
     "output_type": "display_data"
    },
    {
     "name": "stdout",
     "output_type": "stream",
     "text": [
      "The optimaized alpha and score of Lasso polynomial is:  94.26684551178855 0.5859982087149505\n"
     ]
    },
    {
     "data": {
      "text/plain": [
       "Lasso(alpha=94.26684551178855, copy_X=True, fit_intercept=True, max_iter=1000,\n",
       "   normalize=False, positive=False, precompute=False, random_state=None,\n",
       "   selection='cyclic', tol=0.0001, warm_start=False)"
      ]
     },
     "execution_count": 65,
     "metadata": {},
     "output_type": "execute_result"
    }
   ],
   "source": [
    "from sklearn.preprocessing import PolynomialFeatures\n",
    "\n",
    "\n",
    "poly = PolynomialFeatures(2)\n",
    "\n",
    "lr_train, lr_validate = train_test_split(model_train, test_size=0.15, random_state = 0)\n",
    "\n",
    "lr_train_x = lr_train.drop(['video_id', 'cvt_per_day'], axis = 1)\n",
    "lr_validate_x = lr_validate.drop(['video_id', 'cvt_per_day'], axis = 1)\n",
    "\n",
    "lr_train_xp = poly.fit_transform(lr_train_x)\n",
    "lr_validate_xp = poly.fit_transform(lr_validate_x)\n",
    "lr_train_y = lr_train['cvt_per_day']\n",
    "lr_validate_y = lr_validate['cvt_per_day']\n",
    "\n",
    "# lr_train_xp = pd.DataFrame(data=lr_train_xp, index=data[:], columns=data[0,1:]) \n",
    "\n",
    "alphas = np.logspace (1, 2, num=40)\n",
    "# alphas= [1]\n",
    "scores = np.empty_like(alphas)\n",
    "opt_a = float('-inf')\n",
    "max_score = float('-inf')\n",
    "for i, a in enumerate(alphas):\n",
    "    lasso = Lasso()\n",
    "    lasso.set_params(alpha = a)\n",
    "    lasso.fit(lr_train_xp, lr_train_y)\n",
    "    scores[i] = lasso.score(lr_validate_xp, lr_validate_y)\n",
    "    if scores[i] > max_score:\n",
    "        max_score = scores[i]\n",
    "        opt_a = a\n",
    "        lasso_save = lasso\n",
    "        \n",
    "plt.plot(alphas, scores, color='b', linestyle='dashed', marker='o',markerfacecolor='blue', markersize=6)\n",
    "plt.xlabel('alpha')\n",
    "plt.ylabel('score')\n",
    "plt.grid(True)\n",
    "plt.title('score vs. alpha')\n",
    "plt.show()\n",
    "print 'The optimaized alpha and score of Lasso polynomial is: ', opt_a, max_score\n",
    "\n",
    "# combine the validate data and training data, use the optimal alpha, re-train the model\n",
    "lr_train_xp1 = poly.fit_transform(model_train_x)\n",
    "\n",
    "lasso_fp = Lasso()\n",
    "lasso_fp.set_params(alpha = opt_a)\n",
    "lasso_fp.fit(lr_train_xp1, model_train_y)\n",
    "\n",
    "# lasso_fp is the Lasso model (polynomial feature), to be tested with test data."
   ]
  },
  {
   "cell_type": "code",
   "execution_count": 66,
   "metadata": {
    "colab": {},
    "colab_type": "code",
    "id": "HT50FuWN85iV",
    "outputId": "54446aa2-9e90-4360-8b19-53417aa0b915"
   },
   "outputs": [
    {
     "data": {
      "text/plain": [
       "Lasso(alpha=94.26684551178855, copy_X=True, fit_intercept=True, max_iter=1000,\n",
       "   normalize=False, positive=False, precompute=False, random_state=None,\n",
       "   selection='cyclic', tol=0.0001, warm_start=False)"
      ]
     },
     "execution_count": 66,
     "metadata": {},
     "output_type": "execute_result"
    }
   ],
   "source": [
    "# combine the validate data and training data, use the optimal alpha, re-train the model\n",
    "lr_train_xp1 = poly.fit_transform(model_train_x)\n",
    "\n",
    "lasso_fp = Lasso()\n",
    "lasso_fp.set_params(alpha = opt_a)\n",
    "lasso_fp.fit(lr_train_xp1, model_train_y)\n",
    "\n",
    "# lasso_fp is the Lasso model (polynomial feature), to be tested with test data."
   ]
  },
  {
   "cell_type": "markdown",
   "metadata": {
    "colab_type": "text",
    "id": "nwfsaPiN85iX"
   },
   "source": [
    "### 3.1.2 Ridge linear regression\n",
    "#### 1) All featuers are linear"
   ]
  },
  {
   "cell_type": "code",
   "execution_count": 67,
   "metadata": {
    "colab": {},
    "colab_type": "code",
    "id": "5XeJtSaP85iX",
    "outputId": "3f034c73-7ecb-4490-d398-b25ce2ae81da"
   },
   "outputs": [
    {
     "data": {
      "image/png": "[encoded data removed]",
      "text/plain": [
       "<Figure size 432x288 with 1 Axes>"
      ]
     },
     "metadata": {
      "needs_background": "light"
     },
     "output_type": "display_data"
    },
    {
     "name": "stdout",
     "output_type": "stream",
     "text": [
      "0.3577227245459961 163.97026580002054\n"
     ]
    }
   ],
   "source": [
    "# Use the same training data set as Lasso (linear features)\n",
    "lr_train, lr_validate = train_test_split(model_train, test_size=0.15, random_state = 0)\n",
    "\n",
    "alphas = np.logspace (-10, 3, num=150)\n",
    "# alphas= [0.000000001]\n",
    "scores = np.empty_like(alphas)\n",
    "opt_a = float('-inf')\n",
    "max_score = float('-inf')\n",
    "for i, a in enumerate(alphas):\n",
    "    ridge = Ridge()\n",
    "    ridge.set_params(alpha = a)\n",
    "    ridge.fit(lr_train_x, lr_train_y)\n",
    "    scores[i] = ridge.score(lr_validate_x, lr_validate_y)\n",
    "    if scores[i] > max_score:\n",
    "        max_score = scores[i]\n",
    "        opt_a = a\n",
    "        ridge_save = ridge\n",
    "plt.plot(alphas, scores, color='r', linestyle='dashed', marker='o',markerfacecolor='r', markersize=6)\n",
    "plt.xlabel('alpha')\n",
    "plt.ylabel('score')\n",
    "plt.grid(True)\n",
    "plt.title('score vs. alpha')\n",
    "plt.show()\n",
    "print max_score, opt_a\n"
   ]
  },
  {
   "cell_type": "code",
   "execution_count": 68,
   "metadata": {
    "colab": {},
    "colab_type": "code",
    "id": "p4y_Udyn85ic",
    "outputId": "e95b27f9-389c-4b12-b3c2-4be90797929e"
   },
   "outputs": [
    {
     "data": {
      "text/plain": [
       "Ridge(alpha=163.97026580002054, copy_X=True, fit_intercept=True,\n",
       "   max_iter=None, normalize=False, random_state=None, solver='auto',\n",
       "   tol=0.001)"
      ]
     },
     "execution_count": 68,
     "metadata": {},
     "output_type": "execute_result"
    }
   ],
   "source": [
    "# add the 15% validate data, use the optimal alpha, re-train the model\n",
    "\n",
    "ridge_f = Ridge()\n",
    "ridge_f.set_params(alpha = opt_a)\n",
    "ridge_f.fit(model_train_x, model_train_y)\n",
    "\n",
    "# ridge_f is the Ridge model (linear feature), to be tested with test data."
   ]
  },
  {
   "cell_type": "markdown",
   "metadata": {
    "colab_type": "text",
    "id": "jio4lRDc85ig"
   },
   "source": [
    "#### 2) Polynomial featuers"
   ]
  },
  {
   "cell_type": "code",
   "execution_count": 69,
   "metadata": {
    "colab": {},
    "colab_type": "code",
    "id": "hOfEydTb85ih",
    "outputId": "211b991b-1e4a-43bc-d9b2-dc55a083ab29"
   },
   "outputs": [
    {
     "data": {
      "image/png": "[encoded data removed]",
      "text/plain": [
       "<Figure size 432x288 with 1 Axes>"
      ]
     },
     "metadata": {
      "needs_background": "light"
     },
     "output_type": "display_data"
    },
    {
     "name": "stdout",
     "output_type": "stream",
     "text": [
      "0.4915833818358675 14.38449888287663\n"
     ]
    }
   ],
   "source": [
    "# Use the same training data set as Lasso (polynomial features)\n",
    "from sklearn.preprocessing import PolynomialFeatures\n",
    "poly = PolynomialFeatures(2)\n",
    "\n",
    "lr_train, lr_validate = train_test_split(model_train, test_size=0.15, random_state = 0)\n",
    "\n",
    "lr_train_x = lr_train.drop(['video_id', 'cvt_per_day'], axis = 1)\n",
    "lr_validate_x = lr_validate.drop(['video_id', 'cvt_per_day'], axis = 1)\n",
    "lr_train_y = lr_train['cvt_per_day']\n",
    "lr_validate_y = lr_validate['cvt_per_day']\n",
    "\n",
    "lr_train_xp = poly.fit_transform(lr_train_x)\n",
    "lr_validate_xp = poly.fit_transform(lr_validate_x)\n",
    "\n",
    "alphas = np.logspace (-2, 2, num=20)\n",
    "# alphas= [1]\n",
    "scores = np.empty_like(alphas)\n",
    "opt_a = float('-inf')\n",
    "max_score = float('-inf')\n",
    "for i, a in enumerate(alphas):\n",
    "    ridge = Ridge()\n",
    "    ridge.set_params(alpha = a)\n",
    "    ridge.fit(lr_train_xp, lr_train_y)\n",
    "    scores[i] = ridge.score(lr_validate_xp, lr_validate_y)\n",
    "    if scores[i] > max_score:\n",
    "        max_score = scores[i]\n",
    "        opt_a = a\n",
    "        ridge_save = ridge\n",
    "        \n",
    "plt.plot(alphas, scores, color='brown', linestyle='dashed', marker='o',markerfacecolor='g', markersize=6)\n",
    "plt.xlabel('alpha')\n",
    "plt.ylabel('score')\n",
    "plt.grid(True)\n",
    "plt.title('score vs. alpha')\n",
    "plt.show()\n",
    "print max_score, opt_a\n",
    "\n"
   ]
  },
  {
   "cell_type": "code",
   "execution_count": 70,
   "metadata": {
    "colab": {},
    "colab_type": "code",
    "id": "qTGaS2DF85ik",
    "outputId": "2e4c89a7-69e1-4594-d920-48f47442bf5d"
   },
   "outputs": [
    {
     "data": {
      "text/plain": [
       "Ridge(alpha=14.38449888287663, copy_X=True, fit_intercept=True, max_iter=None,\n",
       "   normalize=False, random_state=None, solver='auto', tol=0.001)"
      ]
     },
     "execution_count": 70,
     "metadata": {},
     "output_type": "execute_result"
    }
   ],
   "source": [
    "# add the 15% validate data, use the optimal alpha, re-train the model\n",
    "lr_train_xp1 = poly.fit_transform(model_train_x)\n",
    "\n",
    "ridge_fp = Ridge()\n",
    "ridge_fp.set_params(alpha = opt_a)\n",
    "ridge_fp.fit(lr_train_xp1, model_train_y)\n",
    "\n",
    "# ridge_fp is the Ridge model (polynomial feature), to be tested with test data."
   ]
  },
  {
   "cell_type": "markdown",
   "metadata": {
    "colab_type": "text",
    "id": "D7X4XCj785io"
   },
   "source": [
    "## 3.2: Non-linear model\n",
    "Random forest with Gridsearch cross-validation is used. The 'mean_scores' is used to narrow down the paramenters of n_estimator (number of trees in the forest) and Max_depth (maximum depth of the tree)."
   ]
  },
  {
   "cell_type": "markdown",
   "metadata": {
    "colab_type": "text",
    "id": "jL9wEBRo85ir"
   },
   "source": [
    "### Random forest"
   ]
  },
  {
   "cell_type": "code",
   "execution_count": 71,
   "metadata": {
    "colab": {},
    "colab_type": "code",
    "id": "w2V8i5km85is",
    "outputId": "314ad83a-6d06-4836-c8a9-d1436f8c3d8f"
   },
   "outputs": [
    {
     "data": {
      "text/plain": [
       "GridSearchCV(cv=5, error_score='raise-deprecating',\n",
       "       estimator=RandomForestRegressor(bootstrap=True, criterion='mse', max_depth=None,\n",
       "           max_features='sqrt', max_leaf_nodes=None,\n",
       "           min_impurity_decrease=0.0, min_impurity_split=None,\n",
       "           min_samples_leaf=1, min_samples_split=2,\n",
       "           min_weight_fraction_leaf=0.0, n_estimators='warn', n_jobs=None,\n",
       "           oob_score=False, random_state=2, verbose=0, warm_start=False),\n",
       "       fit_params=None, iid='warn', n_jobs=None,\n",
       "       param_grid={'n_estimators': [54, 55, 56, 57, 58, 59, 60, 62], 'max_depth': [12, 13, 14, 15, 16, 17]},\n",
       "       pre_dispatch='2*n_jobs', refit=True, return_train_score='warn',\n",
       "       scoring=None, verbose=0)"
      ]
     },
     "execution_count": 71,
     "metadata": {},
     "output_type": "execute_result"
    }
   ],
   "source": [
    "from sklearn.ensemble import RandomForestRegressor\n",
    "from sklearn.model_selection import cross_val_score\n",
    "from sklearn.model_selection import cross_validate\n",
    "# from sklearn.grid_search import GridSearchCV\n",
    "from sklearn.model_selection import GridSearchCV\n",
    "\n",
    "rf_train, rf_test = train_test_split(model_train, test_size=0.15, random_state = 0)\n",
    "\n",
    "rf_train_x = rf_train.drop(['video_id', 'cvt_per_day'], axis = 1)\n",
    "rf_test_x = rf_test.drop(['video_id', 'cvt_per_day'], axis = 1)\n",
    "rf_train_y = rf_train['cvt_per_day']\n",
    "rf_test_y = rf_test['cvt_per_day']\n",
    "\n",
    "param_grid = {\n",
    "                 'n_estimators': [54, 55, 56, 57, 58, 59, 60, 62],\n",
    "                 'max_depth': [12, 13, 14, 15, 16, 17]\n",
    "             }\n",
    "\n",
    "rf = RandomForestRegressor(random_state=2, max_features = 'sqrt')\n",
    "grid_rf = GridSearchCV(rf, param_grid, cv=5)\n",
    "grid_rf.fit(rf_train_x, rf_train_y)"
   ]
  },
  {
   "cell_type": "code",
   "execution_count": 72,
   "metadata": {
    "colab": {},
    "colab_type": "code",
    "id": "77gaHA_M85iw",
    "outputId": "479f4709-9d9c-4c58-aabe-33f4b734d233"
   },
   "outputs": [
    {
     "data": {
      "text/plain": [
       "{'max_depth': 14, 'n_estimators': 58}"
      ]
     },
     "execution_count": 72,
     "metadata": {},
     "output_type": "execute_result"
    }
   ],
   "source": [
    "grid_rf.best_params_ "
   ]
  },
  {
   "cell_type": "code",
   "execution_count": 73,
   "metadata": {
    "colab": {},
    "colab_type": "code",
    "collapsed": true,
    "id": "b3yVUCvk85iz",
    "outputId": "9a42bdd2-522e-4084-cd92-6c829fe8eb4b"
   },
   "outputs": [
    {
     "data": {
      "text/plain": [
       "{'mean_fit_time': array([0.19019995, 0.18919992, 0.19700003, 0.19179997, 0.19959993,\n",
       "        0.1994    , 0.19679999, 0.22980003, 0.19240012, 0.20240006,\n",
       "        0.20519996, 0.20419989, 0.21780005, 0.20860004, 0.21740007,\n",
       "        0.21599994, 0.19979997, 0.20619993, 0.21739998, 0.21840005,\n",
       "        0.21799998, 0.21480002, 0.22319994, 0.22479997, 0.19839997,\n",
       "        0.20640011, 0.23380003, 0.22320004, 0.23800001, 0.2336    ,\n",
       "        0.24059997, 0.25439997, 0.22880006, 0.2316    , 0.21960001,\n",
       "        0.22780004, 0.23300004, 0.23420005, 0.25019999, 0.25499992,\n",
       "        0.22599998, 0.23319993, 0.23659997, 0.23979993, 0.27459998,\n",
       "        0.27320004, 0.24840002, 0.27880006]),\n",
       " 'mean_score_time': array([0.01180005, 0.00200005, 0.00900002, 0.00940003, 0.00940003,\n",
       "        0.01280007, 0.01360002, 0.00899997, 0.01039991, 0.0046    ,\n",
       "        0.00579996, 0.00900006, 0.01000004, 0.00280004, 0.00759993,\n",
       "        0.0098001 , 0.00740004, 0.0046    , 0.00579996, 0.01040001,\n",
       "        0.00739994, 0.00840001, 0.00660005, 0.01019993, 0.00799999,\n",
       "        0.01099997, 0.00939994, 0.00799994, 0.00540004, 0.00660005,\n",
       "        0.00839996, 0.00839996, 0.00779996, 0.00779996, 0.01360002,\n",
       "        0.00560002, 0.00479994, 0.00939999, 0.00880003, 0.00740008,\n",
       "        0.00960007, 0.00700011, 0.00860004, 0.00680003, 0.00999994,\n",
       "        0.01040001, 0.01040001, 0.01059999]),\n",
       " 'mean_test_score': array([0.51960568, 0.52178274, 0.52329484, 0.52152114, 0.52351741,\n",
       "        0.52077007, 0.51752685, 0.5175913 , 0.52650858, 0.52913628,\n",
       "        0.52825377, 0.52463338, 0.5269994 , 0.5253255 , 0.52332753,\n",
       "        0.52119713, 0.54127192, 0.54299523, 0.54453991, 0.54262224,\n",
       "        0.54505304, 0.54309049, 0.54227685, 0.54238569, 0.51798758,\n",
       "        0.51964904, 0.52221629, 0.52018202, 0.52014691, 0.51835248,\n",
       "        0.52302583, 0.52118359, 0.53338307, 0.53482742, 0.53437851,\n",
       "        0.53126879, 0.53386761, 0.53254747, 0.53320007, 0.53430291,\n",
       "        0.53778026, 0.53944437, 0.54004567, 0.53660084, 0.53959063,\n",
       "        0.53722729, 0.53571163, 0.53495667]),\n",
       " 'mean_train_score': array([0.9090378 , 0.90926149, 0.91014456, 0.91160915, 0.91174807,\n",
       "        0.91082253, 0.91184327, 0.91241771, 0.91129565, 0.91165353,\n",
       "        0.91259058, 0.91391097, 0.91400527, 0.91362302, 0.91487071,\n",
       "        0.91564978, 0.91648438, 0.91689213, 0.91771038, 0.91898484,\n",
       "        0.9192251 , 0.91852356, 0.91963735, 0.92032451, 0.91638462,\n",
       "        0.91673982, 0.91741274, 0.91869212, 0.91897357, 0.91832037,\n",
       "        0.91926957, 0.91991309, 0.91850241, 0.91898313, 0.91960922,\n",
       "        0.92073995, 0.92106899, 0.92046947, 0.92119599, 0.92196129,\n",
       "        0.91772514, 0.91826488, 0.91943699, 0.92058424, 0.92087764,\n",
       "        0.9200712 , 0.9212259 , 0.92205913]),\n",
       " 'param_max_depth': masked_array(data=[12, 12, 12, 12, 12, 12, 12, 12, 13, 13, 13, 13, 13, 13,\n",
       "                    13, 13, 14, 14, 14, 14, 14, 14, 14, 14, 15, 15, 15, 15,\n",
       "                    15, 15, 15, 15, 16, 16, 16, 16, 16, 16, 16, 16, 17, 17,\n",
       "                    17, 17, 17, 17, 17, 17],\n",
       "              mask=[False, False, False, False, False, False, False, False,\n",
       "                    False, False, False, False, False, False, False, False,\n",
       "                    False, False, False, False, False, False, False, False,\n",
       "                    False, False, False, False, False, False, False, False,\n",
       "                    False, False, False, False, False, False, False, False,\n",
       "                    False, False, False, False, False, False, False, False],\n",
       "        fill_value='?',\n",
       "             dtype=object),\n",
       " 'param_n_estimators': masked_array(data=[54, 55, 56, 57, 58, 59, 60, 62, 54, 55, 56, 57, 58, 59,\n",
       "                    60, 62, 54, 55, 56, 57, 58, 59, 60, 62, 54, 55, 56, 57,\n",
       "                    58, 59, 60, 62, 54, 55, 56, 57, 58, 59, 60, 62, 54, 55,\n",
       "                    56, 57, 58, 59, 60, 62],\n",
       "              mask=[False, False, False, False, False, False, False, False,\n",
       "                    False, False, False, False, False, False, False, False,\n",
       "                    False, False, False, False, False, False, False, False,\n",
       "                    False, False, False, False, False, False, False, False,\n",
       "                    False, False, False, False, False, False, False, False,\n",
       "                    False, False, False, False, False, False, False, False],\n",
       "        fill_value='?',\n",
       "             dtype=object),\n",
       " 'params': [{'max_depth': 12, 'n_estimators': 54},\n",
       "  {'max_depth': 12, 'n_estimators': 55},\n",
       "  {'max_depth': 12, 'n_estimators': 56},\n",
       "  {'max_depth': 12, 'n_estimators': 57},\n",
       "  {'max_depth': 12, 'n_estimators': 58},\n",
       "  {'max_depth': 12, 'n_estimators': 59},\n",
       "  {'max_depth': 12, 'n_estimators': 60},\n",
       "  {'max_depth': 12, 'n_estimators': 62},\n",
       "  {'max_depth': 13, 'n_estimators': 54},\n",
       "  {'max_depth': 13, 'n_estimators': 55},\n",
       "  {'max_depth': 13, 'n_estimators': 56},\n",
       "  {'max_depth': 13, 'n_estimators': 57},\n",
       "  {'max_depth': 13, 'n_estimators': 58},\n",
       "  {'max_depth': 13, 'n_estimators': 59},\n",
       "  {'max_depth': 13, 'n_estimators': 60},\n",
       "  {'max_depth': 13, 'n_estimators': 62},\n",
       "  {'max_depth': 14, 'n_estimators': 54},\n",
       "  {'max_depth': 14, 'n_estimators': 55},\n",
       "  {'max_depth': 14, 'n_estimators': 56},\n",
       "  {'max_depth': 14, 'n_estimators': 57},\n",
       "  {'max_depth': 14, 'n_estimators': 58},\n",
       "  {'max_depth': 14, 'n_estimators': 59},\n",
       "  {'max_depth': 14, 'n_estimators': 60},\n",
       "  {'max_depth': 14, 'n_estimators': 62},\n",
       "  {'max_depth': 15, 'n_estimators': 54},\n",
       "  {'max_depth': 15, 'n_estimators': 55},\n",
       "  {'max_depth': 15, 'n_estimators': 56},\n",
       "  {'max_depth': 15, 'n_estimators': 57},\n",
       "  {'max_depth': 15, 'n_estimators': 58},\n",
       "  {'max_depth': 15, 'n_estimators': 59},\n",
       "  {'max_depth': 15, 'n_estimators': 60},\n",
       "  {'max_depth': 15, 'n_estimators': 62},\n",
       "  {'max_depth': 16, 'n_estimators': 54},\n",
       "  {'max_depth': 16, 'n_estimators': 55},\n",
       "  {'max_depth': 16, 'n_estimators': 56},\n",
       "  {'max_depth': 16, 'n_estimators': 57},\n",
       "  {'max_depth': 16, 'n_estimators': 58},\n",
       "  {'max_depth': 16, 'n_estimators': 59},\n",
       "  {'max_depth': 16, 'n_estimators': 60},\n",
       "  {'max_depth': 16, 'n_estimators': 62},\n",
       "  {'max_depth': 17, 'n_estimators': 54},\n",
       "  {'max_depth': 17, 'n_estimators': 55},\n",
       "  {'max_depth': 17, 'n_estimators': 56},\n",
       "  {'max_depth': 17, 'n_estimators': 57},\n",
       "  {'max_depth': 17, 'n_estimators': 58},\n",
       "  {'max_depth': 17, 'n_estimators': 59},\n",
       "  {'max_depth': 17, 'n_estimators': 60},\n",
       "  {'max_depth': 17, 'n_estimators': 62}],\n",
       " 'rank_test_score': array([44, 36, 33, 37, 31, 40, 48, 47, 28, 25, 26, 30, 27, 29, 32, 38,  8,\n",
       "         4,  2,  5,  1,  3,  7,  6, 46, 43, 35, 41, 42, 45, 34, 39, 21, 17,\n",
       "        18, 24, 20, 23, 22, 19, 12, 11,  9, 14, 10, 13, 15, 16]),\n",
       " 'split0_test_score': array([0.42403964, 0.42807374, 0.42724047, 0.42148643, 0.42170719,\n",
       "        0.4211273 , 0.42441058, 0.42874992, 0.41448498, 0.41876607,\n",
       "        0.419452  , 0.41378461, 0.41678148, 0.41317783, 0.41157302,\n",
       "        0.41316596, 0.4308982 , 0.43528358, 0.43584578, 0.43054451,\n",
       "        0.43364231, 0.43226022, 0.43191777, 0.43312432, 0.39778086,\n",
       "        0.40243086, 0.40374992, 0.39841817, 0.39282263, 0.39541102,\n",
       "        0.40318924, 0.40702191, 0.42011795, 0.4238257 , 0.42365799,\n",
       "        0.418975  , 0.42025706, 0.41927461, 0.41729406, 0.42055375,\n",
       "        0.42084683, 0.42422355, 0.42402217, 0.41870005, 0.42101004,\n",
       "        0.4160745 , 0.41652479, 0.41964067]),\n",
       " 'split0_train_score': array([0.92427969, 0.92381976, 0.92429727, 0.92537015, 0.92493372,\n",
       "        0.92389883, 0.92386838, 0.92419118, 0.93152775, 0.93116151,\n",
       "        0.93155832, 0.93248576, 0.93185621, 0.93132365, 0.93136462,\n",
       "        0.93155859, 0.9349709 , 0.93458326, 0.93493446, 0.93580797,\n",
       "        0.93548218, 0.93447306, 0.93463828, 0.93489134, 0.93185314,\n",
       "        0.93144092, 0.93235687, 0.93329459, 0.93276476, 0.93221628,\n",
       "        0.93204714, 0.93225908, 0.93639953, 0.93617685, 0.93640124,\n",
       "        0.93732439, 0.93702599, 0.93653076, 0.93621393, 0.93650437,\n",
       "        0.93227254, 0.93200183, 0.93265494, 0.93364335, 0.93394231,\n",
       "        0.93281995, 0.93254267, 0.93301461]),\n",
       " 'split1_test_score': array([0.48614098, 0.48950935, 0.49358799, 0.4920145 , 0.49343103,\n",
       "        0.48076248, 0.46708134, 0.47063226, 0.49247561, 0.49713959,\n",
       "        0.4922737 , 0.49019527, 0.49259254, 0.49143339, 0.4880511 ,\n",
       "        0.48550627, 0.52425329, 0.52661331, 0.52871381, 0.52410792,\n",
       "        0.52307187, 0.52015347, 0.52340127, 0.52740922, 0.46677901,\n",
       "        0.46907322, 0.47262206, 0.4661954 , 0.46833097, 0.46885701,\n",
       "        0.46553286, 0.46666993, 0.4696309 , 0.47322401, 0.47753348,\n",
       "        0.46932681, 0.47226603, 0.47348916, 0.47676775, 0.48301956,\n",
       "        0.52208294, 0.52463979, 0.5231666 , 0.51178045, 0.51356334,\n",
       "        0.51220842, 0.51093474, 0.5122169 ]),\n",
       " 'split1_train_score': array([0.90658852, 0.90623069, 0.90676296, 0.90814294, 0.90793312,\n",
       "        0.9064775 , 0.90764507, 0.9090377 , 0.91218925, 0.91190645,\n",
       "        0.91276081, 0.91387171, 0.91368974, 0.91301528, 0.91412328,\n",
       "        0.91548467, 0.91598251, 0.9150829 , 0.91642441, 0.91722394,\n",
       "        0.9175724 , 0.91740826, 0.91834208, 0.91954118, 0.91746984,\n",
       "        0.9170307 , 0.91772609, 0.91916513, 0.91950826, 0.91907464,\n",
       "        0.92031105, 0.92149977, 0.91607259, 0.91550205, 0.91592513,\n",
       "        0.91718554, 0.91677077, 0.91614771, 0.91651017, 0.91817426,\n",
       "        0.92025865, 0.91948491, 0.91961485, 0.91994971, 0.91956761,\n",
       "        0.91902939, 0.91977836, 0.92138069]),\n",
       " 'split2_test_score': array([0.67356602, 0.67718602, 0.67980376, 0.68235768, 0.68783907,\n",
       "        0.69076695, 0.68844851, 0.69117695, 0.69569103, 0.69985699,\n",
       "        0.69897929, 0.69904495, 0.70468006, 0.70364688, 0.70364459,\n",
       "        0.70326586, 0.6970203 , 0.70172395, 0.70429771, 0.70217477,\n",
       "        0.7047029 , 0.70154902, 0.69941194, 0.70682987, 0.6912503 ,\n",
       "        0.69550015, 0.69471963, 0.69773965, 0.70090834, 0.69852622,\n",
       "        0.71161004, 0.71092052, 0.71717312, 0.72046515, 0.71685754,\n",
       "        0.71853538, 0.72409202, 0.72295914, 0.73408742, 0.73643529,\n",
       "        0.70153565, 0.7063944 , 0.70930769, 0.71221965, 0.71649869,\n",
       "        0.715269  , 0.71219888, 0.71267845]),\n",
       " 'split2_train_score': array([0.89677541, 0.89711278, 0.89799786, 0.89985813, 0.89908477,\n",
       "        0.89826633, 0.89967416, 0.89966477, 0.90224093, 0.90246299,\n",
       "        0.90354185, 0.90468899, 0.90455104, 0.90408508, 0.90562001,\n",
       "        0.90568624, 0.90615657, 0.90744868, 0.90794144, 0.9094929 ,\n",
       "        0.90908485, 0.90814183, 0.90942403, 0.90960913, 0.90246867,\n",
       "        0.90325274, 0.90407814, 0.90506539, 0.90534712, 0.90451198,\n",
       "        0.90478275, 0.9051174 , 0.90452956, 0.90573141, 0.90674563,\n",
       "        0.90749967, 0.90754501, 0.90666921, 0.90700461, 0.90709325,\n",
       "        0.90550039, 0.90671314, 0.90904524, 0.91022798, 0.91009903,\n",
       "        0.9089018 , 0.91040091, 0.91048025]),\n",
       " 'split3_test_score': array([0.48067   , 0.48409026, 0.4815824 , 0.47941094, 0.48013479,\n",
       "        0.47594895, 0.47661934, 0.47559555, 0.4933584 , 0.4942239 ,\n",
       "        0.49887919, 0.49709906, 0.49436343, 0.4950654 , 0.498442  ,\n",
       "        0.50073087, 0.48930211, 0.4933075 , 0.49074969, 0.4911276 ,\n",
       "        0.49382702, 0.49207248, 0.49559056, 0.49502723, 0.50238289,\n",
       "        0.50407845, 0.50623252, 0.50205609, 0.49599836, 0.49463425,\n",
       "        0.49484981, 0.49368428, 0.49756985, 0.49737425, 0.50244797,\n",
       "        0.50186653, 0.50289249, 0.50358415, 0.50217406, 0.50311413,\n",
       "        0.46751061, 0.4672873 , 0.47326574, 0.4691457 , 0.47170809,\n",
       "        0.47110792, 0.46721597, 0.47098376]),\n",
       " 'split3_train_score': array([0.90731204, 0.90808968, 0.90986452, 0.91144559, 0.91236678,\n",
       "        0.91207609, 0.91320325, 0.91458603, 0.90234825, 0.90331434,\n",
       "        0.9048193 , 0.9064114 , 0.90719084, 0.90700029, 0.90891756,\n",
       "        0.9107914 , 0.90951485, 0.91050731, 0.91161524, 0.91340675,\n",
       "        0.91327922, 0.91252053, 0.91428237, 0.91586919, 0.91139945,\n",
       "        0.91240935, 0.91298769, 0.91474546, 0.91571955, 0.91452457,\n",
       "        0.91653065, 0.91812482, 0.9179252 , 0.91868058, 0.91980007,\n",
       "        0.92116535, 0.92195456, 0.92127826, 0.92305208, 0.92448971,\n",
       "        0.91475686, 0.91593598, 0.91752973, 0.91931381, 0.9205121 ,\n",
       "        0.91984581, 0.92190793, 0.92338963]),\n",
       " 'split4_test_score': array([0.5335709 , 0.53000608, 0.53420916, 0.53228483, 0.53442184,\n",
       "        0.53519492, 0.53102962, 0.5217399 , 0.53649495, 0.53564839,\n",
       "        0.53164213, 0.52299525, 0.52652531, 0.5232511 , 0.51487239,\n",
       "        0.50325382, 0.56483923, 0.55799104, 0.56303479, 0.56510891,\n",
       "        0.56997804, 0.5693768 , 0.56101697, 0.54947187, 0.53174181,\n",
       "        0.52714933, 0.53375006, 0.53649783, 0.5426716 , 0.5343212 ,\n",
       "        0.53992873, 0.52758677, 0.56241243, 0.55922661, 0.55137113,\n",
       "        0.54761889, 0.54980586, 0.54340066, 0.53563028, 0.52833103,\n",
       "        0.57687427, 0.57461628, 0.57040652, 0.57110443, 0.57512006,\n",
       "        0.57142435, 0.57163044, 0.55919856]),\n",
       " 'split4_train_score': array([0.91023335, 0.91105456, 0.91180016, 0.91322892, 0.91442195,\n",
       "        0.91339389, 0.91482547, 0.91460887, 0.90817206, 0.90942236,\n",
       "        0.91027263, 0.912097  , 0.9127385 , 0.91269083, 0.91432809,\n",
       "        0.914728  , 0.91579709, 0.91683851, 0.91763633, 0.91899264,\n",
       "        0.92070686, 0.92007411, 0.9215    , 0.92171169, 0.91873202,\n",
       "        0.91956539, 0.91991489, 0.92119   , 0.92152818, 0.92127437,\n",
       "        0.92267627, 0.92256436, 0.9175852 , 0.91882479, 0.91917407,\n",
       "        0.9205248 , 0.92204863, 0.92172141, 0.92319919, 0.92354486,\n",
       "        0.91583725, 0.91718854, 0.91834017, 0.91978632, 0.92026714,\n",
       "        0.91975908, 0.92149964, 0.92203049]),\n",
       " 'std_fit_time': array([0.00936803, 0.00888594, 0.00562143, 0.00978575, 0.02055822,\n",
       "        0.00845229, 0.0092822 , 0.02535663, 0.01061317, 0.01036529,\n",
       "        0.01114275, 0.01396283, 0.00738651, 0.01098351, 0.00749938,\n",
       "        0.0063561 , 0.00646219, 0.00278559, 0.02179535, 0.01757955,\n",
       "        0.00228042, 0.00507539, 0.00231511, 0.01671403, 0.00924331,\n",
       "        0.0032    , 0.01899901, 0.02022276, 0.01982916, 0.00926492,\n",
       "        0.01462335, 0.0091782 , 0.00713864, 0.01103812, 0.00828493,\n",
       "        0.00823162, 0.00876351, 0.00711061, 0.02459599, 0.01404285,\n",
       "        0.00977758, 0.01107066, 0.00682936, 0.00331059, 0.03777089,\n",
       "        0.02240894, 0.01048046, 0.00614489]),\n",
       " 'std_score_time': array([0.0035441 , 0.00400009, 0.00734848, 0.00768378, 0.00768378,\n",
       "        0.00649311, 0.00332267, 0.00589914, 0.00307246, 0.00382621,\n",
       "        0.00292572, 0.00309841, 0.00379472, 0.00342933, 0.00048986,\n",
       "        0.00643117, 0.00475819, 0.00377359, 0.00292572, 0.00463035,\n",
       "        0.00048986, 0.00508332, 0.00185475, 0.00839994, 0.00715538,\n",
       "        0.00626099, 0.00287048, 0.00715538, 0.00445424, 0.00605312,\n",
       "        0.00508331, 0.00048998, 0.00074829, 0.00074835, 0.00531409,\n",
       "        0.0056071 , 0.00639992, 0.00768374, 0.00828016, 0.00560717,\n",
       "        0.00319998, 0.00368787, 0.0010198 , 0.0034293 , 0.0025299 ,\n",
       "        0.00849942, 0.00241666, 0.00135645]),\n",
       " 'std_test_score': array([0.08448446, 0.08424045, 0.08542116, 0.08792874, 0.08977325,\n",
       "        0.09237916, 0.09198914, 0.09169011, 0.09333322, 0.09342239,\n",
       "        0.09293092, 0.09453217, 0.0959124 , 0.0964087 , 0.09692073,\n",
       "        0.09681311, 0.0894502 , 0.08919681, 0.09038177, 0.09114887,\n",
       "        0.09126984, 0.09081187, 0.08919591, 0.09112705, 0.09752441,\n",
       "        0.09752022, 0.09661232, 0.09989409, 0.10265893, 0.1008727 ,\n",
       "        0.10425321, 0.10279613, 0.1027896 , 0.10257384, 0.10012789,\n",
       "        0.10264495, 0.10405227, 0.10350401, 0.10768419, 0.10721076,\n",
       "        0.09718246, 0.09780777, 0.09777506, 0.10111714, 0.10191173,\n",
       "        0.10253716, 0.1019541 , 0.1001052 ]),\n",
       " 'std_train_score': array([0.00886666, 0.0086407 , 0.00850995, 0.00827184, 0.00844164,\n",
       "        0.00843458, 0.00801322, 0.0080272 , 0.0107883 , 0.01038857,\n",
       "        0.01007422, 0.00989549, 0.00955175, 0.00948033, 0.00887601,\n",
       "        0.00868151, 0.00997711, 0.00944666, 0.00928344, 0.00902586,\n",
       "        0.0090266 , 0.00896495, 0.00852248, 0.00835942, 0.00963814,\n",
       "        0.00921786, 0.00924206, 0.00917561, 0.00886879, 0.00902742,\n",
       "        0.00886934, 0.00876448, 0.01022376, 0.00983328, 0.0096046 ,\n",
       "        0.00962507, 0.0095681 , 0.00968825, 0.00955352, 0.0095478 ,\n",
       "        0.00871625, 0.00812671, 0.00758387, 0.00748927, 0.00760377,\n",
       "        0.00759631, 0.0070411 , 0.00715995])}"
      ]
     },
     "execution_count": 73,
     "metadata": {},
     "output_type": "execute_result"
    }
   ],
   "source": [
    "grid_rf.cv_results_"
   ]
  },
  {
   "cell_type": "code",
   "execution_count": 74,
   "metadata": {
    "colab": {},
    "colab_type": "code",
    "id": "coIPchoL85i5",
    "outputId": "10a3a556-8ce7-4962-9abd-96425eb1cc1b",
    "scrolled": true
   },
   "outputs": [
    {
     "data": {
      "image/png": "[encoded data removed]",
      "text/plain": [
       "<Figure size 432x288 with 1 Axes>"
      ]
     },
     "metadata": {
      "needs_background": "light"
     },
     "output_type": "display_data"
    }
   ],
   "source": [
    "# plot the effect of different number of trees and maximum tree-depth druing cross validation \n",
    "\n",
    "\n",
    "scores = [x for x in grid_rf.cv_results_['mean_test_score']]\n",
    "\n",
    "n_est = [54, 55, 56, 57, 58, 59, 60, 62]\n",
    "m_depth=[12, 13, 14, 15, 16, 17]\n",
    "\n",
    "\n",
    "scores = np.array(scores).reshape(len(m_depth), len(n_est))\n",
    "\n",
    "fig = plt.figure()\n",
    "ax = plt.subplot(111)\n",
    "for ind, i in enumerate(m_depth):\n",
    "    plt.plot(n_est, scores[ind], '-o', label='m_depth.' + str(i),)\n",
    "    \n",
    "ax.legend(loc='center left', bbox_to_anchor=(1, 0.5))\n",
    "plt.xlabel('n estimator')\n",
    "plt.ylabel('Mean score')\n",
    "plt.grid(True)\n",
    "plt.show()\n",
    "# savefig('rf_1')"
   ]
  },
  {
   "cell_type": "code",
   "execution_count": 75,
   "metadata": {
    "colab": {},
    "colab_type": "code",
    "id": "zbSWnhsq85i8",
    "outputId": "89dd304b-92f8-43c9-8064-b8ef36775b4e"
   },
   "outputs": [
    {
     "data": {
      "text/plain": [
       "RandomForestRegressor(bootstrap=True, criterion='mse', max_depth=14,\n",
       "           max_features='sqrt', max_leaf_nodes=None,\n",
       "           min_impurity_decrease=0.0, min_impurity_split=None,\n",
       "           min_samples_leaf=1, min_samples_split=2,\n",
       "           min_weight_fraction_leaf=0.0, n_estimators=55, n_jobs=None,\n",
       "           oob_score=False, random_state=2, verbose=0, warm_start=False)"
      ]
     },
     "execution_count": 75,
     "metadata": {},
     "output_type": "execute_result"
    }
   ],
   "source": [
    "# add both training and validation data together as the new training data\n",
    "rf = RandomForestRegressor(random_state=2, max_features = 'sqrt', max_depth= 14, n_estimators=55)\n",
    "rf.fit(model_train_x, model_train_y)"
   ]
  },
  {
   "cell_type": "markdown",
   "metadata": {
    "colab_type": "text",
    "id": "W38Ms86i85jD"
   },
   "source": [
    "The best rf model have n_estimator = 14, and max_depth = 55."
   ]
  },
  {
   "cell_type": "markdown",
   "metadata": {
    "colab_type": "text",
    "id": "IXWNTJGT85jE"
   },
   "source": [
    "# Part 4: Model Evaluation\n",
    "Test data is the reserved 15% of the whole dataset, and has never been seen by the above models. "
   ]
  },
  {
   "cell_type": "markdown",
   "metadata": {
    "colab_type": "text",
    "id": "X7-f1G8985jE"
   },
   "source": [
    "## 4.1 Lasso test with linear features (lasso_f)"
   ]
  },
  {
   "cell_type": "code",
   "execution_count": 76,
   "metadata": {
    "colab": {},
    "colab_type": "code",
    "id": "d4TI_H4k85jF",
    "outputId": "beced675-c646-44d8-e444-6b966f1ea108"
   },
   "outputs": [
    {
     "name": "stdout",
     "output_type": "stream",
     "text": [
      "lasso_f score:  0.09263234449657431\n",
      "Mean square error of lasso_f:  240788741.46695668\n",
      "Root mean squared error of lasso_f: 15517.3690253\n"
     ]
    }
   ],
   "source": [
    "# Lasso_f test (with linear features)\n",
    "\n",
    "lasso_f_score = lasso_f.score(model_test_x, model_test_y)\n",
    "pred_y = lasso_f.predict(model_test_x)\n",
    "\n",
    "# The mean squared error and root mean square error\n",
    "MSE_lasso_f = mean_squared_error(model_test_y, pred_y)\n",
    "RMSE_lasso_f = sqrt(mean_squared_error(model_test_y, pred_y))\n",
    "\n",
    "print 'lasso_f score: ', lasso_f_score\n",
    "print 'Mean square error of lasso_f: ', MSE_lasso_f\n",
    "print 'Root mean squared error of lasso_f:', RMSE_lasso_f\n",
    "# print ('Coefficients of lasso_f: ', lasso_f.coef_)"
   ]
  },
  {
   "cell_type": "markdown",
   "metadata": {
    "colab_type": "text",
    "id": "ife4EPk-85jH"
   },
   "source": [
    "## 4.2 Lasso test with polynomial features (lasso_fp)"
   ]
  },
  {
   "cell_type": "code",
   "execution_count": 77,
   "metadata": {
    "colab": {},
    "colab_type": "code",
    "id": "_BlQvHdd85jH",
    "outputId": "5a9ac46a-95f9-4ade-e675-4ba6c06d7d96"
   },
   "outputs": [
    {
     "name": "stdout",
     "output_type": "stream",
     "text": [
      "lasso_fp score:  0.15542819096974392\n",
      "Mean square error of lasso_fp:  224124567.08304882\n",
      "Root mean squared error of lasso_fp: 14970.7904629\n"
     ]
    }
   ],
   "source": [
    "# Lasso_fp test (with polynomial features)\n",
    "model_test_xp = poly.fit_transform(model_test_x)\n",
    "pred_y = lasso_fp.predict(model_test_xp)\n",
    "\n",
    "lasso_fp_score = lasso_fp.score(model_test_xp, model_test_y)\n",
    "MSE_lasso_fp = mean_squared_error(model_test_y, pred_y)\n",
    "RMSE_lasso_fp = sqrt(mean_squared_error(model_test_y, pred_y))\n",
    "\n",
    "print 'lasso_fp score: ', lasso_fp_score\n",
    "print 'Mean square error of lasso_fp: ', MSE_lasso_fp\n",
    "print 'Root mean squared error of lasso_fp:', RMSE_lasso_fp\n",
    "# print ('Coefficients of lasso_fp: ', lasso_fp.coef_)"
   ]
  },
  {
   "cell_type": "markdown",
   "metadata": {
    "colab_type": "text",
    "id": "XSkh2bSH85jL"
   },
   "source": [
    "## 4.3 Ridge test with linear features (ridge_f)"
   ]
  },
  {
   "cell_type": "code",
   "execution_count": 78,
   "metadata": {
    "colab": {},
    "colab_type": "code",
    "id": "yr8Tqhel85jM",
    "outputId": "2a95d6db-1ab1-4fac-fa3b-11dc4a672cbd"
   },
   "outputs": [
    {
     "name": "stdout",
     "output_type": "stream",
     "text": [
      "ridge_f score:  0.10832503464893006\n",
      "Mean square error of ridge_f:  236624362.1339506\n",
      "Root mean squared error of ridge_f: 15382.5993296\n"
     ]
    }
   ],
   "source": [
    "# ridge_f test (with linear features)\n",
    "\n",
    "ridge_f_score = ridge_f.score(model_test_x, model_test_y)\n",
    "pred_y = ridge_f.predict(model_test_x)\n",
    "\n",
    "# The mean squared error and root mean square error\n",
    "MSE_ridge_f = mean_squared_error(model_test_y, pred_y)\n",
    "RMSE_ridge_f = sqrt(mean_squared_error(model_test_y, pred_y))\n",
    "\n",
    "print 'ridge_f score: ', ridge_f_score\n",
    "print 'Mean square error of ridge_f: ', MSE_ridge_f\n",
    "print 'Root mean squared error of ridge_f:', RMSE_ridge_f\n",
    "# print ('Coefficients of ridge_f: ', ridge_f.coef_)"
   ]
  },
  {
   "cell_type": "markdown",
   "metadata": {
    "colab_type": "text",
    "id": "4je_Gd5k85jN"
   },
   "source": [
    "## 4.4 Ridge test with polynomial features (ridge_fp)"
   ]
  },
  {
   "cell_type": "code",
   "execution_count": 79,
   "metadata": {
    "colab": {},
    "colab_type": "code",
    "id": "kmWNOPCj85jO",
    "outputId": "8976ba1c-6979-49bd-b97d-df9379d667e9"
   },
   "outputs": [
    {
     "name": "stdout",
     "output_type": "stream",
     "text": [
      "ridge_fp score:  0.10832503464893006\n",
      "Mean square error of ridge_fp:  236624362.1339506\n",
      "Root mean squared error of ridge_fp: 15382.5993296\n"
     ]
    }
   ],
   "source": [
    "# ridge_fp test (with polynomial features)\n",
    "model_test_xp = poly.fit_transform(model_test_x)\n",
    "\n",
    "ridge_fp_score = ridge_fp.score(model_test_xp, model_test_y)\n",
    "MSE_ridge_fp = mean_squared_error(model_test_y, pred_y)\n",
    "RMSE_ridge_fp = sqrt(mean_squared_error(model_test_y, pred_y))\n",
    "\n",
    "pred_y = ridge_fp.predict(model_test_xp)\n",
    "print 'ridge_fp score: ', ridge_f_score\n",
    "print 'Mean square error of ridge_fp: ', MSE_ridge_fp\n",
    "print 'Root mean squared error of ridge_fp:', RMSE_ridge_fp\n",
    "#print ('Coefficients of ridge_fp: ', ridge_fp.coef_)"
   ]
  },
  {
   "cell_type": "markdown",
   "metadata": {
    "colab_type": "text",
    "id": "ghmes05d85jR"
   },
   "source": [
    "## 4.5 Random forest test (rf)"
   ]
  },
  {
   "cell_type": "code",
   "execution_count": 80,
   "metadata": {
    "colab": {},
    "colab_type": "code",
    "id": "2qx2whs285jR",
    "outputId": "10d5f213-7e8e-4cd2-dfa7-da425d04f7bc"
   },
   "outputs": [
    {
     "name": "stdout",
     "output_type": "stream",
     "text": [
      "rf score:  0.5263581926504721\n",
      "Mean square error of rf:  125690632.68466593\n",
      "Root mean squared error of rf: 11211.1833757\n"
     ]
    }
   ],
   "source": [
    "rf_score = rf.score(model_test_x, model_test_y)\n",
    "\n",
    "pred_y = rf.predict(model_test_x)\n",
    "MSE_rf = mean_squared_error(model_test_y, pred_y)\n",
    "RMSE_rf = sqrt(mean_squared_error(model_test_y, pred_y))\n",
    "\n",
    "# The mean squared error and root mean square error\n",
    "print 'rf score: ', rf_score\n",
    "print 'Mean square error of rf: ', MSE_rf\n",
    "print 'Root mean squared error of rf:', RMSE_rf\n",
    "# print('Coefficients: \\n', ridge_fp.coef_)"
   ]
  },
  {
   "cell_type": "markdown",
   "metadata": {
    "colab_type": "text",
    "id": "5CBarhv085jT"
   },
   "source": [
    "## 4.6 Comparison of the 5 models\n",
    "Compared the max_score, mean squared error (MSE), and root mean squared error (RMSE) of 5 models. Random forest model rf returns the beset prediction accuracy."
   ]
  },
  {
   "cell_type": "code",
   "execution_count": 81,
   "metadata": {
    "colab": {},
    "colab_type": "code",
    "id": "5HmG_ppx85jV",
    "outputId": "b9bfd6c6-0d52-42b9-b48b-5e5c6f7feb59"
   },
   "outputs": [
    {
     "data": {
      "image/png": "[encoded data removed]",
      "text/plain": [
       "<Figure size 432x288 with 1 Axes>"
      ]
     },
     "metadata": {
      "needs_background": "light"
     },
     "output_type": "display_data"
    },
    {
     "data": {
      "image/png": "[encoded data removed]",
      "text/plain": [
       "<Figure size 432x288 with 1 Axes>"
      ]
     },
     "metadata": {
      "needs_background": "light"
     },
     "output_type": "display_data"
    },
    {
     "data": {
      "image/png": "[encoded data removed]",
      "text/plain": [
       "<Figure size 432x288 with 1 Axes>"
      ]
     },
     "metadata": {
      "needs_background": "light"
     },
     "output_type": "display_data"
    }
   ],
   "source": [
    "lst_score = [lasso_f_score, lasso_fp_score, ridge_f_score, ridge_fp_score, rf_score]\n",
    "MSE_lst =  [MSE_lasso_f, MSE_lasso_fp, MSE_ridge_f, MSE_ridge_fp, MSE_rf]\n",
    "RMSE_lst =  [RMSE_lasso_f, RMSE_lasso_fp, RMSE_ridge_f, RMSE_ridge_fp, RMSE_rf]\n",
    "model_lst = ['Lasso_linear','Lasso poly', 'Ridge linear', 'Ridge poly', 'Random forest']\n",
    "\n",
    "plt.figure(1)\n",
    "plt.plot(model_lst, lst_score, 'ro')\n",
    "plt.legend(loc = 9)\n",
    "plt.legend(['r-squre / score'])\n",
    "plt.xlabel('model names',fontsize =16)\n",
    "plt.ylabel('score / r square', fontsize =16)\n",
    "plt.grid(True)\n",
    "plt.show()\n",
    "\n",
    "plt.figure(2)\n",
    "plt.plot(model_lst, MSE_lst, 'g^')\n",
    "plt.legend(loc = 9)\n",
    "plt.legend(['mean square error (MSE)'])\n",
    "plt.xlabel('model names', fontsize =16)\n",
    "plt.ylabel('mean square error', fontsize =16)\n",
    "plt.grid(True)\n",
    "plt.show()\n",
    "\n",
    "plt.figure(3)\n",
    "plt.plot(model_lst, RMSE_lst, 'bs')\n",
    "plt.legend(loc = 9)\n",
    "plt.legend(['root mean square error (RMSE)'])\n",
    "plt.xlabel('model names', fontsize =16)\n",
    "plt.ylabel('root mean square error', fontsize =16)\n",
    "plt.grid(True)\n",
    "plt.show()"
   ]
  },
  {
   "cell_type": "markdown",
   "metadata": {
    "colab_type": "text",
    "id": "WNwYx9sb85jX"
   },
   "source": [
    "\n",
    "# 5. Feature importance\n",
    "Random forest(RF) shows the best prediction accuracy. Therefore, the feature importance will be extracted from the RF model. "
   ]
  },
  {
   "cell_type": "code",
   "execution_count": 82,
   "metadata": {
    "colab": {},
    "colab_type": "code",
    "id": "8Hss9puM85jX",
    "outputId": "cbb513ab-a54b-4748-aed8-fdafba461b57"
   },
   "outputs": [
    {
     "name": "stdout",
     "output_type": "stream",
     "text": [
      "Feature importance ranking:\n",
      "1. feature 2 weighted_categorical_position (0.157573)\n",
      "2. feature 0 weighted_horizontal_poition (0.130593)\n",
      "3. feature 1 imdb_votes (0.124132)\n",
      "4. feature 3 budget (0.061760)\n",
      "5. feature 7 boxoffice (0.058938)\n",
      "6. feature 8 imdb_rating (0.054035)\n",
      "7. feature 4 duration_in_mins (0.051837)\n",
      "8. feature 9 metacritic_score (0.041649)\n",
      "9. feature 6 star_category (0.036104)\n",
      "10. feature 5 lionsgate (0.036103)\n",
      "11. feature 11 mgm (0.027828)\n",
      "12. feature 53 other (0.018667)\n",
      "13. feature 10 paramount (0.017778)\n",
      "14. feature 28 G (0.016801)\n",
      "15. feature 18 NC-17 (0.010920)\n",
      "16. feature 49 NotRated (0.009319)\n",
      "17. feature 52 PG (0.008157)\n",
      "18. feature 23 PG-13 (0.007596)\n",
      "19. feature 50 R (0.007392)\n",
      "20. feature 42 BAFTA (0.006855)\n",
      "21. feature 30 Golden Globe (0.006753)\n",
      "22. feature 27 Oscar (0.006447)\n",
      "23. feature 22 no award (0.006372)\n",
      "24. feature 39 other award (0.006149)\n",
      "25. feature 29 Action (0.005886)\n",
      "26. feature 15 Adventure (0.005721)\n",
      "27. feature 21 Animation (0.005185)\n",
      "28. feature 24 Comedy (0.005162)\n",
      "29. feature 25 Crime (0.004605)\n",
      "30. feature 33 Documentary (0.004510)\n",
      "31. feature 54 Drama (0.004482)\n",
      "32. feature 48 Fantasy (0.004046)\n",
      "33. feature 51 Foreign/International (0.003985)\n",
      "34. feature 17 Horror (0.003866)\n",
      "35. feature 44 Independent (0.003761)\n",
      "36. feature 35 Kids & Family (0.003562)\n",
      "37. feature 16 Music (0.003226)\n",
      "38. feature 38 Musicals (0.003133)\n",
      "39. feature 20 Mystery (0.002948)\n",
      "40. feature 40 Romance (0.002868)\n",
      "41. feature 47 Sci-Fi (0.002737)\n",
      "42. feature 12 Sport (0.002704)\n",
      "43. feature 26 Thriller (0.002665)\n",
      "44. feature 43 War (0.002580)\n",
      "45. feature 31 Western (0.001965)\n",
      "46. feature 41 Misc_gen (0.001946)\n",
      "47. feature 46 1916-1974 (0.001806)\n",
      "48. feature 55 1974-1991 (0.001609)\n",
      "49. feature 45 1991-2001 (0.001537)\n",
      "50. feature 36 2001-2006 (0.001512)\n",
      "51. feature 14 2006-2008 (0.000690)\n",
      "52. feature 34 2008-2010 (0.000668)\n",
      "53. feature 37 2010-2012 (0.000458)\n",
      "54. feature 13 2012-2013 (0.000273)\n",
      "55. feature 19 2013-2014 (0.000079)\n",
      "56. feature 32 2014-2017 (0.000066)\n"
     ]
    },
    {
     "data": {
      "image/png": "[encoded data removed]",
      "text/plain": [
       "<Figure size 432x288 with 1 Axes>"
      ]
     },
     "metadata": {
      "needs_background": "light"
     },
     "output_type": "display_data"
    }
   ],
   "source": [
    "importances = rf.feature_importances_\n",
    "std = np.std([tree.feature_importances_ for tree in rf.estimators_], axis=0)\n",
    "indices = np.argsort(importances)[::-1]\n",
    "feature_name = model_test_x.columns.get_values()\n",
    "\n",
    "# Print the feature ranking\n",
    "print(\"Feature importance ranking:\")\n",
    "\n",
    "for f in range(model_test_x.shape[1]):\n",
    "    print(\"%d. feature %d %s (%f)\" % (f + 1, indices[f],  feature_name[f], importances[indices[f]]))\n",
    "    \n",
    "plt.figure(1)\n",
    "plt.bar(feature_name[:11], importances[indices[:11]])\n",
    "plt.xticks(rotation=90)\n",
    "plt.show()"
   ]
  },
  {
   "cell_type": "markdown",
   "metadata": {},
   "source": [
    "# Conclusion\n",
    "After trying linear Lasso Regression,  Polynomial Lasso Regression, Ridge, Linear Ridge Regression and  Polynomial  Ridge Regression, and Random Forest, I found that random forest has the best accuracy rate and lowest mean square error. The top predictive features of movies' popularity are weighted_categorical_position, weighted horizontal_position, and imbd_voes."
   ]
  }
 ],
 "metadata": {
  "colab": {
   "name": "work.ipynb",
   "provenance": [],
   "version": "0.3.2"
  },
  "kernelspec": {
   "display_name": "Python 2",
   "language": "python",
   "name": "python2"
  },
  "language_info": {
   "codemirror_mode": {
    "name": "ipython",
    "version": 2
   },
   "file_extension": ".py",
   "mimetype": "text/x-python",
   "name": "python",
   "nbconvert_exporter": "python",
   "pygments_lexer": "ipython2",
   "version": "2.7.15"
  }
 },
 "nbformat": 4,
 "nbformat_minor": 1
}
